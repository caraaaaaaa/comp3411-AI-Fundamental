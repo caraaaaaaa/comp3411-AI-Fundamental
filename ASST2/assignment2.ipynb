{
 "cells": [
  {
   "cell_type": "markdown",
   "metadata": {},
   "source": [
    "\n",
    "# COMP3411/9418 21T0 Assignment 2\n",
    "\n",
    "- Lecturer: Anna Trofimova\n",
    "- School of Computer Science and Engineering, UNSW Sydney\n",
    "- Last Update 26th January at 07:00am, 2021\n",
    "$$\n",
    "% macros\n",
    "\\newcommand{\\indep}{\\perp \\!\\!\\!\\perp}\n",
    "$$"
   ]
  },
  {
   "cell_type": "markdown",
   "metadata": {},
   "source": [
    "## Student:\n",
    "Zixuan Guo, z5173593"
   ]
  },
  {
   "cell_type": "markdown",
   "metadata": {},
   "source": [
    "### Submission\n",
    "This interactive notebook contains the instructions to complete assignment 2; You should submit this notebook with the code and answers in one single file in .ipybn format with the name assignment2.ipybn. **Write your name and zID in the cell above** (to edit the markdown text double-click the cell).\n",
    "\n",
    "There is a maximum file size cap of 5MB, so make sure your submission does not exceed this size. The submitted notebook should contain all your source code and answers. You can add new cells and use markdown text to organise and explain your implementation/answer.\n",
    "\n",
    "Submit your files using give. On a CSE Linux machine, type the following on the command-line:"
   ]
  },
  {
   "cell_type": "raw",
   "metadata": {},
   "source": [
    "$ give cs3411 ass2 assignment2.ipynb"
   ]
  },
  {
   "cell_type": "markdown",
   "metadata": {},
   "source": [
    "The submission deadline is **3rd February at 11.59pm, 2021.** This is a hard deadline, no extentions will be granted (it is not our decision, it is the reality of the summer term courses)."
   ]
  },
  {
   "cell_type": "markdown",
   "metadata": {},
   "source": [
    "### Late Submission Policy \n",
    "The penalty is set at 20% per late day. This is a ceiling penalty, so if your submission is marked 12/20 and it was submitted two days late, you still get 12/20. If you submit 5 days later, then the penalty is 100% and your mark will be 0."
   ]
  },
  {
   "cell_type": "markdown",
   "metadata": {},
   "source": [
    "### Plagiarism\n",
    "This is an individual assignment. Remember that **all** work submitted for this assignment must be your own **individual** work and no code\n",
    "sharing or copying is allowed. You may use code from the Internet only with suitable attribution\n",
    "of the source in your program. **Do not use public code repositories as your code might be copied.** Keep in mind that sharing parts of assignment solutions is a form of plagiarism. All submitted assignments will be run through plagiarism detection software to detect similarities to other submissions. You should carefully read the UNSW policy on academic integrity and plagiarism. "
   ]
  },
  {
   "cell_type": "markdown",
   "metadata": {},
   "source": [
    "### Motivation\n",
    "\n",
    "Imagine that you have been hired as a Data Scientist by Amazon, and your first task is to evaluate customer sentiment towards their products. Many online stores selling Amazon products provide their customers with an option to leave a review, but they might not have a rating system, or the customers might choose to leave a review without rating. However, you still want to use these reviews in your report. Thus, you need to develop a reliable model that can automatically assign setiment given a review.\n",
    "\n",
    "To develop your model, you have been given a collection of customer reviews on products like Alexa Echo, Echo dots, Alexa Firesticks etc. with their corresponding ratings. The ratings vary from 1 to 5, but to simplify the problem, you will consider reviews with ratings 1 & 2 to have negative sentiment, with 3 having neutral sentiment,  and 4 & 5 having positive sentiment.\n",
    "* Negative: 1 & 2\n",
    "* Neutral: 3\n",
    "* Positive: 4 & 5\n"
   ]
  },
  {
   "cell_type": "markdown",
   "metadata": {},
   "source": [
    "### Description\n",
    "\n",
    "When working with a Jupyter notebook, you can edit the \\*.py files either in the Jupyter interface (in your browser) or with your favorite editor (e.g., PyCharm). Whenever you save a \\*.py file, the notebook will reload their content directly.\n",
    "\n",
    "**Do not create new markdown cells, if you want to comment on something then use Raw NBConvert cells.**\n",
    "\n",
    "Below are the libraries that you can use (and need) in this assignment. If you want to use a library that is not in the list then send us an email to confirm (use course email). \n",
    "\n",
    "Run the code below to import the libraries."
   ]
  },
  {
   "cell_type": "code",
   "execution_count": 1,
   "metadata": {
    "scrolled": false
   },
   "outputs": [],
   "source": [
    "%matplotlib inline\n",
    "import pandas as pd\n",
    "from sklearn.feature_extraction.text import CountVectorizer\n",
    "\n",
    "from sklearn.naive_bayes import MultinomialNB\n",
    "from sklearn.neural_network import MLPClassifier\n",
    "from sklearn import tree\n",
    "from sklearn.tree import export_graphviz\n",
    "\n",
    "from sklearn.metrics import classification_report\n",
    "from sklearn.model_selection import train_test_split\n",
    "from nltk.corpus import stopwords\n",
    "\n",
    "import graphviz\n",
    "from graphviz import Source\n",
    "from matplotlib import pyplot as plt\n",
    "\n",
    "import re\n",
    "import copy\n",
    "\n",
    "\n",
    "#  If you experience problems with downloading stopwords, uncomment and run the code below.\n",
    "#  It will launch NLTK Downloader application so you can download stopwords corpora manually.\n",
    "\n",
    "#import nltk\n",
    "#import ssl\n",
    "#\n",
    "#try:\n",
    "#    _create_unverified_https_context = ssl._create_unverified_context\n",
    "#except AttributeError:\n",
    "#    pass\n",
    "#else:\n",
    "#    ssl._create_default_https_context = _create_unverified_https_context\n",
    "#\n",
    "#nltk.download()"
   ]
  },
  {
   "cell_type": "markdown",
   "metadata": {},
   "source": [
    "### Part 1 - Data [2 marks]\n",
    "\n",
    "In this part of the assignment you need to import the Amazon reviews dataset and analyse its main properties.\n",
    "\n",
    "#### Task 1.1\n",
    "Import the dataset from *amazon_alexa.tsv* file, save it into the variable *data* and change the rating labels as follow: \n",
    " {1: 'negative', 2: 'negative', 3: 'neutral', 4: 'positive', 5: 'positive'}."
   ]
  },
  {
   "cell_type": "code",
   "execution_count": 2,
   "metadata": {},
   "outputs": [],
   "source": [
    "# your code\n",
    "\n",
    "data = pd.read_csv('amazon_alexa.tsv', sep='\\t')\n",
    "data.loc[data['rating'] == 1, 'rating'] = 'negative'\n",
    "data.loc[data['rating'] == 2, 'rating'] = 'negative'\n",
    "data.loc[data['rating'] == 3, 'rating'] = 'neutral'\n",
    "data.loc[data['rating'] == 4, 'rating'] = 'positive'\n",
    "data.loc[data['rating'] == 5, 'rating'] = 'positive'"
   ]
  },
  {
   "cell_type": "markdown",
   "metadata": {},
   "source": [
    "Run the code below to plot the data distribution:"
   ]
  },
  {
   "cell_type": "code",
   "execution_count": 3,
   "metadata": {},
   "outputs": [
    {
     "data": {
      "text/plain": [
       "<AxesSubplot:>"
      ]
     },
     "execution_count": 3,
     "metadata": {},
     "output_type": "execute_result"
    },
    {
     "data": {
      "image/png": "[encoded data removed]",
      "text/plain": [
       "<Figure size 432x288 with 1 Axes>"
      ]
     },
     "metadata": {
      "needs_background": "light"
     },
     "output_type": "display_data"
    }
   ],
   "source": [
    "data['rating'].value_counts().plot(kind='bar')"
   ]
  },
  {
   "cell_type": "markdown",
   "metadata": {},
   "source": [
    "Give a simple description of the class frequency distribution across the full dataset. What do you notice about the distribution? "
   ]
  },
  {
   "cell_type": "raw",
   "metadata": {},
   "source": [
    "# It shows a asymmetric distribution, with positive class has the distinct high frequency. Frequency of negative class slightly more than Neutral class."
   ]
  },
  {
   "cell_type": "markdown",
   "metadata": {},
   "source": [
    "#### Task 1.2\n",
    "\n",
    "To reduce computation time in this task, your will use only the 1000 most frequent tokens from the vocabulary as attributes. Run the code below to convert the input text samples into a document-term matrix:"
   ]
  },
  {
   "cell_type": "code",
   "execution_count": 4,
   "metadata": {
    "scrolled": true
   },
   "outputs": [
    {
     "data": {
      "text/html": [
       "<div>\n",
       "<style scoped>\n",
       "    .dataframe tbody tr th:only-of-type {\n",
       "        vertical-align: middle;\n",
       "    }\n",
       "\n",
       "    .dataframe tbody tr th {\n",
       "        vertical-align: top;\n",
       "    }\n",
       "\n",
       "    .dataframe thead th {\n",
       "        text-align: right;\n",
       "    }\n",
       "</style>\n",
       "<table border=\"1\" class=\"dataframe\">\n",
       "  <thead>\n",
       "    <tr style=\"text-align: right;\">\n",
       "      <th></th>\n",
       "      <th>!</th>\n",
       "      <th>!!</th>\n",
       "      <th>&amp;</th>\n",
       "      <th>&amp;#34;Alexa,</th>\n",
       "      <th>&amp;#34;Things</th>\n",
       "      <th>(which</th>\n",
       "      <th>,</th>\n",
       "      <th>-</th>\n",
       "      <th>--</th>\n",
       "      <th>.</th>\n",
       "      <th>...</th>\n",
       "      <th>worth</th>\n",
       "      <th>would</th>\n",
       "      <th>wouldn't</th>\n",
       "      <th>year</th>\n",
       "      <th>years</th>\n",
       "      <th>yet</th>\n",
       "      <th>yet.</th>\n",
       "      <th>you</th>\n",
       "      <th>you're</th>\n",
       "      <th>your</th>\n",
       "    </tr>\n",
       "  </thead>\n",
       "  <tbody>\n",
       "    <tr>\n",
       "      <th>0</th>\n",
       "      <td>0</td>\n",
       "      <td>0</td>\n",
       "      <td>0</td>\n",
       "      <td>0</td>\n",
       "      <td>0</td>\n",
       "      <td>0</td>\n",
       "      <td>0</td>\n",
       "      <td>0</td>\n",
       "      <td>0</td>\n",
       "      <td>0</td>\n",
       "      <td>...</td>\n",
       "      <td>0</td>\n",
       "      <td>0</td>\n",
       "      <td>0</td>\n",
       "      <td>0</td>\n",
       "      <td>0</td>\n",
       "      <td>0</td>\n",
       "      <td>0</td>\n",
       "      <td>0</td>\n",
       "      <td>0</td>\n",
       "      <td>0</td>\n",
       "    </tr>\n",
       "    <tr>\n",
       "      <th>1</th>\n",
       "      <td>0</td>\n",
       "      <td>0</td>\n",
       "      <td>0</td>\n",
       "      <td>0</td>\n",
       "      <td>0</td>\n",
       "      <td>0</td>\n",
       "      <td>0</td>\n",
       "      <td>0</td>\n",
       "      <td>0</td>\n",
       "      <td>0</td>\n",
       "      <td>...</td>\n",
       "      <td>0</td>\n",
       "      <td>0</td>\n",
       "      <td>0</td>\n",
       "      <td>0</td>\n",
       "      <td>0</td>\n",
       "      <td>0</td>\n",
       "      <td>0</td>\n",
       "      <td>0</td>\n",
       "      <td>0</td>\n",
       "      <td>0</td>\n",
       "    </tr>\n",
       "    <tr>\n",
       "      <th>2</th>\n",
       "      <td>0</td>\n",
       "      <td>0</td>\n",
       "      <td>0</td>\n",
       "      <td>0</td>\n",
       "      <td>0</td>\n",
       "      <td>0</td>\n",
       "      <td>0</td>\n",
       "      <td>0</td>\n",
       "      <td>0</td>\n",
       "      <td>0</td>\n",
       "      <td>...</td>\n",
       "      <td>0</td>\n",
       "      <td>0</td>\n",
       "      <td>0</td>\n",
       "      <td>0</td>\n",
       "      <td>0</td>\n",
       "      <td>0</td>\n",
       "      <td>0</td>\n",
       "      <td>2</td>\n",
       "      <td>0</td>\n",
       "      <td>0</td>\n",
       "    </tr>\n",
       "    <tr>\n",
       "      <th>3</th>\n",
       "      <td>0</td>\n",
       "      <td>0</td>\n",
       "      <td>0</td>\n",
       "      <td>0</td>\n",
       "      <td>0</td>\n",
       "      <td>0</td>\n",
       "      <td>0</td>\n",
       "      <td>0</td>\n",
       "      <td>0</td>\n",
       "      <td>0</td>\n",
       "      <td>...</td>\n",
       "      <td>0</td>\n",
       "      <td>0</td>\n",
       "      <td>0</td>\n",
       "      <td>0</td>\n",
       "      <td>0</td>\n",
       "      <td>0</td>\n",
       "      <td>0</td>\n",
       "      <td>0</td>\n",
       "      <td>0</td>\n",
       "      <td>0</td>\n",
       "    </tr>\n",
       "    <tr>\n",
       "      <th>4</th>\n",
       "      <td>0</td>\n",
       "      <td>0</td>\n",
       "      <td>0</td>\n",
       "      <td>0</td>\n",
       "      <td>0</td>\n",
       "      <td>0</td>\n",
       "      <td>0</td>\n",
       "      <td>0</td>\n",
       "      <td>0</td>\n",
       "      <td>0</td>\n",
       "      <td>...</td>\n",
       "      <td>0</td>\n",
       "      <td>0</td>\n",
       "      <td>0</td>\n",
       "      <td>0</td>\n",
       "      <td>0</td>\n",
       "      <td>0</td>\n",
       "      <td>0</td>\n",
       "      <td>0</td>\n",
       "      <td>0</td>\n",
       "      <td>0</td>\n",
       "    </tr>\n",
       "  </tbody>\n",
       "</table>\n",
       "<p>5 rows × 1000 columns</p>\n",
       "</div>"
      ],
      "text/plain": [
       "   !  !!  &  &#34;Alexa,  &#34;Things  (which  ,  -  --  .  ...  worth  would  \\\n",
       "0  0   0  0            0            0       0  0  0   0  0  ...      0      0   \n",
       "1  0   0  0            0            0       0  0  0   0  0  ...      0      0   \n",
       "2  0   0  0            0            0       0  0  0   0  0  ...      0      0   \n",
       "3  0   0  0            0            0       0  0  0   0  0  ...      0      0   \n",
       "4  0   0  0            0            0       0  0  0   0  0  ...      0      0   \n",
       "\n",
       "   wouldn't  year  years  yet  yet.  you  you're  your  \n",
       "0         0     0      0    0     0    0       0     0  \n",
       "1         0     0      0    0     0    0       0     0  \n",
       "2         0     0      0    0     0    2       0     0  \n",
       "3         0     0      0    0     0    0       0     0  \n",
       "4         0     0      0    0     0    0       0     0  \n",
       "\n",
       "[5 rows x 1000 columns]"
      ]
     },
     "execution_count": 4,
     "metadata": {},
     "output_type": "execute_result"
    }
   ],
   "source": [
    "vectorizer = CountVectorizer(analyzer=lambda x: x.split(), max_features=1000)\n",
    "\n",
    "x_dense = vectorizer.fit_transform(data['verified_reviews'])\n",
    "x_sparse = pd.DataFrame.sparse.from_spmatrix(x_dense, columns=vectorizer.get_feature_names())\n",
    "x_sparse.head()\n",
    "# print(x_dense)\n",
    "#  (0, 96)\t1\n",
    "#  (0, 621)\t1\n",
    "#  (1, 98)\t1\n",
    "#  (1, 528)\t1\n",
    "#  (2, 129)\t1"
   ]
  },
  {
   "cell_type": "markdown",
   "metadata": {},
   "source": [
    "It was written in the helper notebook that the original input representation is bad. Explain why a document-term matrix is a more suitable representation for machine learning tasks with text data."
   ]
  },
  {
   "cell_type": "raw",
   "metadata": {},
   "source": [
    "# A document-term matrix  split sentences into words and count their frequency of occurrence, and make into matrix form. \n",
    "If not, machine need to learn every reviews, the problem is that differernt people may have similar meaning but with different expression. Without transform to words matrix, it will be a huge workload for machine learning and make prediction."
   ]
  },
  {
   "cell_type": "markdown",
   "metadata": {},
   "source": [
    "Two variables *x_dense* and *x_sparce* both represent input data in a document-term form. Explain which one is preferable and why."
   ]
  },
  {
   "cell_type": "raw",
   "metadata": {},
   "source": [
    "# Dense matrix uses smaller space than sparse matrix because it does not include data with zero frequency, but data in sparse matrix form is more convenient for machine learning, because we need to use those data for machine learning, data in sparce matrix form makes mechine learning doing basic mathematical operation and other computation easier. "
   ]
  },
  {
   "cell_type": "markdown",
   "metadata": {},
   "source": [
    "### Part 2 - Decision Tree [2 marks]\n",
    "\n",
    "In this part you need to evaluate how classifier hyperparameters affect their performance. Consider a Decision Tree classifier that splits attributes based on the lowest entropy. For performance evaluation, assume that only the top 1000 most frequent tokens are used as attributes. The first 60% of samples should constitute the traing set while the remaining 40% of samples should constitute the test set.\n",
    "\n",
    "#### Task 2.1\n",
    "In the cell below place your code that computes performance measures for decision trees with different depth limits. <br> \n",
    "Consider the following cases: max_depth = 5, 10, 100, 200, None."
   ]
  },
  {
   "cell_type": "code",
   "execution_count": 1,
   "metadata": {},
   "outputs": [
    {
     "ename": "NameError",
     "evalue": "name 'data' is not defined",
     "output_type": "error",
     "traceback": [
      "\u001b[0;31m---------------------------------------------------------------------------\u001b[0m",
      "\u001b[0;31mNameError\u001b[0m                                 Traceback (most recent call last)",
      "\u001b[0;32m<ipython-input-1-5a3aee36b800>\u001b[0m in \u001b[0;36m<module>\u001b[0;34m\u001b[0m\n\u001b[1;32m      1\u001b[0m \u001b[0;31m# your code\u001b[0m\u001b[0;34m\u001b[0m\u001b[0;34m\u001b[0m\u001b[0;34m\u001b[0m\u001b[0m\n\u001b[0;32m----> 2\u001b[0;31m \u001b[0my\u001b[0m \u001b[0;34m=\u001b[0m \u001b[0mdata\u001b[0m\u001b[0;34m[\u001b[0m\u001b[0;34m'rating'\u001b[0m\u001b[0;34m]\u001b[0m\u001b[0;34m\u001b[0m\u001b[0;34m\u001b[0m\u001b[0m\n\u001b[0m\u001b[1;32m      3\u001b[0m \u001b[0mx_train\u001b[0m\u001b[0;34m,\u001b[0m \u001b[0mx_test\u001b[0m\u001b[0;34m,\u001b[0m \u001b[0my_train\u001b[0m\u001b[0;34m,\u001b[0m \u001b[0my_test\u001b[0m \u001b[0;34m=\u001b[0m \u001b[0mtrain_test_split\u001b[0m\u001b[0;34m(\u001b[0m\u001b[0mx_sparse\u001b[0m\u001b[0;34m,\u001b[0m \u001b[0my\u001b[0m\u001b[0;34m,\u001b[0m \u001b[0mtest_size\u001b[0m\u001b[0;34m=\u001b[0m\u001b[0;36m0.4\u001b[0m\u001b[0;34m,\u001b[0m \u001b[0mshuffle\u001b[0m \u001b[0;34m=\u001b[0m \u001b[0;32mFalse\u001b[0m\u001b[0;34m)\u001b[0m\u001b[0;34m\u001b[0m\u001b[0;34m\u001b[0m\u001b[0m\n\u001b[1;32m      4\u001b[0m \u001b[0;34m\u001b[0m\u001b[0m\n\u001b[1;32m      5\u001b[0m \u001b[0;34m\u001b[0m\u001b[0m\n",
      "\u001b[0;31mNameError\u001b[0m: name 'data' is not defined"
     ]
    }
   ],
   "source": [
    "# your code\n",
    "y = data['rating']\n",
    "x_train, x_test, y_train, y_test = train_test_split(x_sparse, y, test_size=0.4, shuffle = False)\n",
    "\n",
    "\n",
    "for depth in [5, 10, 100, 200, None]:\n",
    "    print('***depth: ', depth)\n",
    "    print()\n",
    "    \n",
    "    # create a decision tree classifier\n",
    "    classifier = tree.DecisionTreeClassifier(max_depth = depth)\n",
    "\n",
    "    # train the model \n",
    "    model = classifier.fit(x_train, y_train)\n",
    "\n",
    "    y_test_predicted = model.predict(x_test)\n",
    "    \n",
    "    # print different evaluation metrics \n",
    "    print(classification_report(y_test, y_test_predicted))\n",
    "    print()"
   ]
  },
  {
   "cell_type": "markdown",
   "metadata": {},
   "source": [
    "#### Task 2.2\n",
    "In the cell below explain any difference in performance, and comment on metrics in relation to the depth limit."
   ]
  },
  {
   "cell_type": "raw",
   "metadata": {},
   "source": [
    "# By increasing the depth, the accuracy of predicting slightly increased, especially on negative class and neutral class. The accuracy of predict positive class is higher than negative class and neutral class, one reason is positive class has a big amount of data, after training it can be predicted better than the others. \n",
    "But for 'max_depth = None' which means here's no limit on the max depth, the accuracy is not increased as much, so increase max depth will not "
   ]
  },
  {
   "cell_type": "markdown",
   "metadata": {},
   "source": [
    "### Part 3 - Pre-processing [3 marks]\n",
    "\n",
    "In this part, you need to evaluate the effect that the pre-processing of input features has on the performance of three classifiers - Decision Tree (DT), Multinomial Naive Bayes (MNB), and  Artificial Neural Networks (ANN). For a Decision Tree classifier, use the parameters from Part2 but do not limit the depth. For a Artificial Neural Network classifier, set the number of hidden neurons to 200.\n",
    "\n",
    "For the performance evaluation, assume that the first 60% of samples constitutes the traing set while the remaining 40% of samples constitutes the test set. All tokens in the vocabulary should be used as attributes.\n",
    "Consider the following scenarios:\n",
    "1. No data pre-processing\n",
    "2. Removal of URLs and tokens that are not made of strings of letters, numbers, or symbols {’, #, @, $} delimited by spaces.\n",
    "3. Apply (2) and make all tokens lowercase.\n",
    "4. Apply (2), (3) and remove all stop words.\n",
    "\n",
    "#### Task 3.1\n",
    "In the cell below place your code that reflects the four scenarios of feature pre-processing."
   ]
  },
  {
   "cell_type": "code",
   "execution_count": 6,
   "metadata": {
    "scrolled": true
   },
   "outputs": [],
   "source": [
    "# case 1\n",
    "def preprocessing_1(x):\n",
    "    pre1 = x.copy()\n",
    "    return pre1\n",
    "\n",
    "# case 2\n",
    "def preprocessing_2(x):\n",
    "    pre2 = x.copy()\n",
    "    pre2['verified_reviews'] = pre2['verified_reviews'].map(lambda pre: re.sub(r'https?\\S+', '', pre))\n",
    "    pre2['verified_reviews'] = pre2['verified_reviews'].map(lambda pre: re.sub(r'[^A-Za-z\\d\\'\\#\\@\\$\\s*]', '', pre))\n",
    "    return pre2\n",
    "\n",
    "# case 3\n",
    "def preprocessing_3(x):\n",
    "    pre3 = x.copy()\n",
    "    pre3['verified_reviews'] = pre3['verified_reviews'].map(lambda pre: re.sub(r'https?\\S+', '', pre).lower())\n",
    "    pre3['verified_reviews'] = pre3['verified_reviews'].map(lambda pre: re.sub(r'[^A-Za-z\\d\\'\\#\\@\\$\\s*]', '', pre).lower())\n",
    "    return pre3\n",
    "\n",
    "# case 4\n",
    "def preprocessing_4(x):\n",
    "    pre4 = x.copy()\n",
    "    pre4['verified_reviews'] = pre4['verified_reviews'].map(lambda pre: re.sub(r'https?\\S+', '', pre).lower())\n",
    "    pre4['verified_reviews'] = pre4['verified_reviews'].map(lambda pre: re.sub(r'[^A-Za-z\\d\\'\\#\\@\\$\\s*]', '', pre).lower())\n",
    "    \n",
    "    stopword = stopwords.words('english')\n",
    "    listnew = []\n",
    "    for i in pre4.index:\n",
    "        verifiedreviews = pre4.verified_reviews[i].split()\n",
    "        listnew.append(' '.join([item for item in verifiedreviews if item not in stopword]))\n",
    "\n",
    "    pre4['verified_reviews'] = listnew\n",
    "    return pre4"
   ]
  },
  {
   "cell_type": "markdown",
   "metadata": {},
   "source": [
    "#### Task 3.2 \n",
    "\n",
    "In the cell below, place your code that trains and tests all three classifiers. Pre-process your data according on scenario #4."
   ]
  },
  {
   "cell_type": "code",
   "execution_count": 7,
   "metadata": {},
   "outputs": [
    {
     "name": "stdout",
     "output_type": "stream",
     "text": [
      "1. Decision Tree classifier\n",
      "\n",
      "              precision    recall  f1-score   support\n",
      "\n",
      "    negative       0.33      0.41      0.37       108\n",
      "     neutral       0.20      0.18      0.19        67\n",
      "    positive       0.91      0.90      0.91      1085\n",
      "\n",
      "    accuracy                           0.82      1260\n",
      "   macro avg       0.48      0.50      0.49      1260\n",
      "weighted avg       0.83      0.82      0.82      1260\n",
      "\n",
      "\n",
      "2. Multinomial Naive Bayes classifier\n",
      "\n",
      "              precision    recall  f1-score   support\n",
      "\n",
      "    negative       0.62      0.32      0.43       108\n",
      "     neutral       0.20      0.18      0.19        67\n",
      "    positive       0.91      0.96      0.93      1085\n",
      "\n",
      "    accuracy                           0.86      1260\n",
      "   macro avg       0.58      0.49      0.52      1260\n",
      "weighted avg       0.84      0.86      0.85      1260\n",
      "\n",
      "\n",
      "3. Artificial Neural Networks classifier\n",
      "\n",
      "              precision    recall  f1-score   support\n",
      "\n",
      "    negative       0.35      0.24      0.29       108\n",
      "     neutral       0.20      0.10      0.14        67\n",
      "    positive       0.90      0.95      0.93      1085\n",
      "\n",
      "    accuracy                           0.85      1260\n",
      "   macro avg       0.48      0.43      0.45      1260\n",
      "weighted avg       0.82      0.85      0.83      1260\n",
      "\n",
      "\n"
     ]
    }
   ],
   "source": [
    "# your code   \n",
    "preprocess = preprocessing_4(data)\n",
    "y = data['rating']\n",
    "\n",
    "vectorizer = CountVectorizer(analyzer=lambda x: x.split(), max_features=1000)\n",
    "\n",
    "x_dense = vectorizer.fit_transform(preprocess['verified_reviews'])\n",
    "x_sparse = pd.DataFrame.sparse.from_spmatrix(x_dense, columns=vectorizer.get_feature_names())\n",
    "\n",
    "x_train, x_test, y_train, y_test = train_test_split(x_sparse, y, test_size=0.4, shuffle = False)\n",
    "\n",
    "\n",
    "print('1. Decision Tree classifier')\n",
    "print()\n",
    "\n",
    "# create a decision tree classifier\n",
    "classifier = tree.DecisionTreeClassifier()\n",
    "\n",
    "# train the model \n",
    "model = classifier.fit(x_train, y_train)\n",
    "\n",
    "y_test_predicted = model.predict(x_test)\n",
    "\n",
    "# print different evaluation metrics \n",
    "print(classification_report(y_test, y_test_predicted))\n",
    "print()\n",
    "\n",
    "print('2. Multinomial Naive Bayes classifier')\n",
    "print()\n",
    "\n",
    "# create a Multinomial classifier\n",
    "classifier = MultinomialNB()\n",
    "\n",
    "# train the model \n",
    "model = classifier.fit(x_train, y_train)\n",
    "\n",
    "y_test_predicted = model.predict(x_test)\n",
    "\n",
    "# print different evaluation metrics \n",
    "print(classification_report(y_test, y_test_predicted))\n",
    "print()\n",
    "\n",
    "print('3. Artificial Neural Networks classifier')\n",
    "print()\n",
    "\n",
    "# create a ANN classifier\n",
    "classifier = MLPClassifier(hidden_layer_sizes=200)\n",
    "\n",
    "# train the model \n",
    "model = classifier.fit(x_train, y_train)\n",
    "\n",
    "y_test_predicted = model.predict(x_test)\n",
    "\n",
    "# print different evaluation metrics \n",
    "print(classification_report(y_test, y_test_predicted))\n",
    "print()"
   ]
  },
  {
   "cell_type": "markdown",
   "metadata": {},
   "source": [
    "#### Task 3.3\n",
    "\n",
    "Evaluate the effect each pre-processing scenario has on the performance for the three models. In each case. compute the performance metrics. Write your answer in the cell below. "
   ]
  },
  {
   "cell_type": "raw",
   "metadata": {},
   "source": [
    "# By removing more symble and stop words (from scenario 1 to scenario 4) leads to a difference for Decision Tree classifier and Artificial Neural Networks classifier, there's no big differerce for MNB classifier.\n",
    "ANN classifier shows a highest accuracy for the three models in all scenarios. \n",
    "Scenario 4 should give a highest accuracy than the other 3 scenarios for all models, beacuse not only symbles removed, but also removing stopwords. But in my testing accuracy for scenario 4 is lower than 3 for 0.01 for all three classifiers, which in my opinion is a training error for some reason."
   ]
  },
  {
   "cell_type": "markdown",
   "metadata": {},
   "source": [
    "## Part 4 [5 marks]\n",
    "\n",
    "In this part, you need to evaluate how the number of features and classes affects the performance of the three classifiers - Decision Tree (DT), Multinomial Naive Bayes (MNB), and Artificial Neural Networks (ANN). For a Decision Tree classifier, use the parameters from Part 2 but do not limit the depth. For a Artificial Neural Network classifier set the number of hidden neurons to 200.\n",
    "\n",
    "For the performance evaluation, assume that the first 60% of samples constitute the traing set while the remaining 40% of samples constitute the test set."
   ]
  },
  {
   "cell_type": "markdown",
   "metadata": {},
   "source": [
    "#### Task 4.1\n",
    "\n",
    "Consider the following scenarios for attributes:\n",
    "\n",
    "1. Attributes are all tokens in the vocabulary\n",
    "2. Attributes are the top 1000 most frequent tokens in the vocabulary\n",
    "3. Attributes are the top 100 most frequent tokens in the vocabulary\n",
    "4. Attributes are the top 10 most frequent tokens in the vocabulary\n",
    "\n",
    "In the cell below, place your code that returns a document-term representation given the number of attributes."
   ]
  },
  {
   "cell_type": "code",
   "execution_count": 8,
   "metadata": {},
   "outputs": [],
   "source": [
    "# your code\n",
    "def limit_attributes(x, n_attributes):\n",
    "    vectorizer = CountVectorizer(analyzer=lambda x: x.split(), max_features=n_attributes)\n",
    "\n",
    "    x_dense = vectorizer.fit_transform(x['verified_reviews'])\n",
    "    x_sparse = pd.DataFrame.sparse.from_spmatrix(x_dense, columns=vectorizer.get_feature_names())\n",
    "    return x_sparse"
   ]
  },
  {
   "cell_type": "markdown",
   "metadata": {},
   "source": [
    "#### Task 4.2 \n",
    "\n",
    "In the cell below, place your code that trains and tests all three classifiers. Limit the number of attributes according on scenario #4."
   ]
  },
  {
   "cell_type": "code",
   "execution_count": 9,
   "metadata": {
    "scrolled": false
   },
   "outputs": [
    {
     "name": "stdout",
     "output_type": "stream",
     "text": [
      "***attributes: ALL\n",
      "1. Decision Tree classifier\n",
      "              precision    recall  f1-score   support\n",
      "\n",
      "    negative       0.27      0.28      0.28       108\n",
      "     neutral       0.04      0.03      0.03        67\n",
      "    positive       0.89      0.91      0.90      1085\n",
      "\n",
      "    accuracy                           0.81      1260\n",
      "   macro avg       0.40      0.40      0.40      1260\n",
      "weighted avg       0.80      0.81      0.80      1260\n",
      "\n",
      "\n",
      "2. Multinomial Naive Bayes classifier\n",
      "\n",
      "              precision    recall  f1-score   support\n",
      "\n",
      "    negative       0.58      0.39      0.46       108\n",
      "     neutral       0.10      0.07      0.09        67\n",
      "    positive       0.91      0.95      0.93      1085\n",
      "\n",
      "    accuracy                           0.85      1260\n",
      "   macro avg       0.53      0.47      0.49      1260\n",
      "weighted avg       0.83      0.85      0.84      1260\n",
      "\n",
      "\n",
      "3. Artificial Neural Networks classifier\n",
      "\n",
      "              precision    recall  f1-score   support\n",
      "\n",
      "    negative       0.53      0.40      0.46       108\n",
      "     neutral       0.16      0.06      0.09        67\n",
      "    positive       0.90      0.96      0.93      1085\n",
      "\n",
      "    accuracy                           0.87      1260\n",
      "   macro avg       0.53      0.47      0.49      1260\n",
      "weighted avg       0.83      0.87      0.85      1260\n",
      "\n",
      "\n",
      "***attributes:  1000\n",
      "1. Decision Tree classifier\n",
      "              precision    recall  f1-score   support\n",
      "\n",
      "    negative       0.28      0.31      0.29       108\n",
      "     neutral       0.09      0.07      0.08        67\n",
      "    positive       0.90      0.90      0.90      1085\n",
      "\n",
      "    accuracy                           0.81      1260\n",
      "   macro avg       0.42      0.43      0.43      1260\n",
      "weighted avg       0.81      0.81      0.81      1260\n",
      "\n",
      "\n",
      "2. Multinomial Naive Bayes classifier\n",
      "\n",
      "              precision    recall  f1-score   support\n",
      "\n",
      "    negative       0.58      0.39      0.46       108\n",
      "     neutral       0.10      0.07      0.09        67\n",
      "    positive       0.91      0.95      0.93      1085\n",
      "\n",
      "    accuracy                           0.85      1260\n",
      "   macro avg       0.53      0.47      0.49      1260\n",
      "weighted avg       0.83      0.85      0.84      1260\n",
      "\n",
      "\n",
      "3. Artificial Neural Networks classifier\n",
      "\n",
      "              precision    recall  f1-score   support\n",
      "\n",
      "    negative       0.58      0.40      0.47       108\n",
      "     neutral       0.17      0.06      0.09        67\n",
      "    positive       0.90      0.97      0.93      1085\n",
      "\n",
      "    accuracy                           0.87      1260\n",
      "   macro avg       0.55      0.47      0.50      1260\n",
      "weighted avg       0.84      0.87      0.85      1260\n",
      "\n",
      "\n",
      "***attributes:  100\n",
      "1. Decision Tree classifier\n",
      "              precision    recall  f1-score   support\n",
      "\n",
      "    negative       0.18      0.18      0.18       108\n",
      "     neutral       0.12      0.10      0.11        67\n",
      "    positive       0.88      0.89      0.89      1085\n",
      "\n",
      "    accuracy                           0.79      1260\n",
      "   macro avg       0.39      0.39      0.39      1260\n",
      "weighted avg       0.78      0.79      0.78      1260\n",
      "\n",
      "\n",
      "2. Multinomial Naive Bayes classifier\n",
      "\n",
      "              precision    recall  f1-score   support\n",
      "\n",
      "    negative       0.51      0.18      0.26       108\n",
      "     neutral       0.04      0.01      0.02        67\n",
      "    positive       0.88      0.98      0.93      1085\n",
      "\n",
      "    accuracy                           0.86      1260\n",
      "   macro avg       0.48      0.39      0.40      1260\n",
      "weighted avg       0.81      0.86      0.82      1260\n",
      "\n",
      "\n",
      "3. Artificial Neural Networks classifier\n",
      "\n"
     ]
    },
    {
     "name": "stderr",
     "output_type": "stream",
     "text": [
      "/Library/Frameworks/Python.framework/Versions/3.8/lib/python3.8/site-packages/sklearn/neural_network/_multilayer_perceptron.py:614: ConvergenceWarning: Stochastic Optimizer: Maximum iterations (200) reached and the optimization hasn't converged yet.\n",
      "  warnings.warn(\n"
     ]
    },
    {
     "name": "stdout",
     "output_type": "stream",
     "text": [
      "              precision    recall  f1-score   support\n",
      "\n",
      "    negative       0.52      0.26      0.35       108\n",
      "     neutral       0.40      0.09      0.15        67\n",
      "    positive       0.89      0.97      0.93      1085\n",
      "\n",
      "    accuracy                           0.87      1260\n",
      "   macro avg       0.60      0.44      0.47      1260\n",
      "weighted avg       0.83      0.87      0.84      1260\n",
      "\n",
      "\n",
      "***attributes:  10\n",
      "1. Decision Tree classifier\n",
      "              precision    recall  f1-score   support\n",
      "\n",
      "    negative       0.19      0.17      0.18       108\n",
      "     neutral       0.11      0.09      0.10        67\n",
      "    positive       0.88      0.90      0.89      1085\n",
      "\n",
      "    accuracy                           0.79      1260\n",
      "   macro avg       0.39      0.38      0.39      1260\n",
      "weighted avg       0.78      0.79      0.79      1260\n",
      "\n",
      "\n",
      "2. Multinomial Naive Bayes classifier\n",
      "\n",
      "              precision    recall  f1-score   support\n",
      "\n",
      "    negative       1.00      0.02      0.04       108\n",
      "     neutral       0.00      0.00      0.00        67\n",
      "    positive       0.86      1.00      0.93      1085\n",
      "\n",
      "    accuracy                           0.86      1260\n",
      "   macro avg       0.62      0.34      0.32      1260\n",
      "weighted avg       0.83      0.86      0.80      1260\n",
      "\n",
      "\n",
      "3. Artificial Neural Networks classifier\n",
      "\n",
      "              precision    recall  f1-score   support\n",
      "\n",
      "    negative       0.37      0.06      0.11       108\n",
      "     neutral       0.08      0.01      0.02        67\n",
      "    positive       0.87      0.99      0.92      1085\n",
      "\n",
      "    accuracy                           0.85      1260\n",
      "   macro avg       0.44      0.35      0.35      1260\n",
      "weighted avg       0.79      0.85      0.81      1260\n",
      "\n",
      "\n"
     ]
    },
    {
     "name": "stderr",
     "output_type": "stream",
     "text": [
      "/Library/Frameworks/Python.framework/Versions/3.8/lib/python3.8/site-packages/sklearn/neural_network/_multilayer_perceptron.py:614: ConvergenceWarning: Stochastic Optimizer: Maximum iterations (200) reached and the optimization hasn't converged yet.\n",
      "  warnings.warn(\n"
     ]
    }
   ],
   "source": [
    "# your code\n",
    "y = data['rating']\n",
    "\n",
    "vectorizer = CountVectorizer(analyzer=lambda x: x.split(), max_features=1000)\n",
    "\n",
    "x_dense = vectorizer.fit_transform(data['verified_reviews'])\n",
    "x_sparse = pd.DataFrame.sparse.from_spmatrix(x_dense, columns=vectorizer.get_feature_names())\n",
    "print('***attributes: ALL')\n",
    "x_train, x_test, y_train, y_test = train_test_split(x_sparse, y, test_size=0.4, shuffle = False)\n",
    "\n",
    "print('1. Decision Tree classifier')\n",
    "classifier = tree.DecisionTreeClassifier()\n",
    "model = classifier.fit(x_train, y_train)\n",
    "y_test_predicted = model.predict(x_test)\n",
    "print(classification_report(y_test, y_test_predicted))\n",
    "print()\n",
    "\n",
    "print('2. Multinomial Naive Bayes classifier')\n",
    "print()\n",
    "classifier = MultinomialNB()\n",
    "model = classifier.fit(x_train, y_train)\n",
    "y_test_predicted = model.predict(x_test)\n",
    "print(classification_report(y_test, y_test_predicted))\n",
    "print()\n",
    "\n",
    "print('3. Artificial Neural Networks classifier')\n",
    "print()\n",
    "classifier = MLPClassifier(hidden_layer_sizes=200)\n",
    "model = classifier.fit(x_train, y_train)\n",
    "y_test_predicted = model.predict(x_test)\n",
    "print(classification_report(y_test, y_test_predicted))\n",
    "print()\n",
    "\n",
    "\n",
    "for att in [1000, 100, 10]:\n",
    "    print('***attributes: ', att)\n",
    "    x_train, x_test, y_train, y_test = train_test_split(limit_attributes(data, att), y, test_size=0.4, shuffle = False)\n",
    "    \n",
    "    \n",
    "    print('1. Decision Tree classifier')\n",
    "    \n",
    "    # create a decision tree classifier\n",
    "    classifier = tree.DecisionTreeClassifier()\n",
    "    \n",
    "    # train the model \n",
    "    model = classifier.fit(x_train, y_train)\n",
    "    \n",
    "    y_test_predicted = model.predict(x_test)\n",
    "    \n",
    "    # print different evaluation metrics \n",
    "    print(classification_report(y_test, y_test_predicted))\n",
    "    print()\n",
    "    \n",
    "    print('2. Multinomial Naive Bayes classifier')\n",
    "    print()\n",
    "    \n",
    "    # create a decision tree classifier\n",
    "    classifier = MultinomialNB()\n",
    "    \n",
    "    # train the model \n",
    "    model = classifier.fit(x_train, y_train)\n",
    "    \n",
    "    y_test_predicted = model.predict(x_test)\n",
    "    \n",
    "    # print different evaluation metrics \n",
    "    print(classification_report(y_test, y_test_predicted))\n",
    "    print()\n",
    "    \n",
    "    print('3. Artificial Neural Networks classifier')\n",
    "    print()\n",
    "    \n",
    "    # create a decision tree classifier\n",
    "    classifier = MLPClassifier(hidden_layer_sizes=200)\n",
    "    \n",
    "    # train the model \n",
    "    model = classifier.fit(x_train, y_train)\n",
    "    \n",
    "    y_test_predicted = model.predict(x_test)\n",
    "    \n",
    "    # print different evaluation metrics \n",
    "    print(classification_report(y_test, y_test_predicted))\n",
    "    print()"
   ]
  },
  {
   "cell_type": "markdown",
   "metadata": {},
   "source": [
    "#### Task 4.3\n",
    "\n",
    "Evaluate the effect each scenario has on the performance for the three models based on the performance metrics. Explain the differences in the performance. Write your answer in the cell below."
   ]
  },
  {
   "cell_type": "raw",
   "metadata": {},
   "source": [
    "# For decision tree model, more attributes is helpful for the overall accuracy improvement. For positive class, the impovement didn't change very much. Change in negative class and neutral class is more obvious than in positive class.\n",
    "\n",
    "  For MNB model, more attributes is helpful for the overall accuracy improvement. No influence on positive class, big impovment on other 2 classes. \n",
    "  \n",
    "  For ANN modle, more attributes is helpful for the overall accuracy improvement. Slightly increase accuracy for positive class, similar accuracy for negative and neutral class (expect attributes=5).\n",
    "  \n",
    "  But the accuracy for token number = 1000 and all tokens is similar for all three models, so there's no need to train all tokens, 1000 is enought in this model. More attributes is just waste of time and machine memory."
   ]
  },
  {
   "cell_type": "markdown",
   "metadata": {},
   "source": [
    "#### Task 4.4\n",
    "\n",
    "Remove all samples with neutral sentiment from the dataset. Train and test all three models on this new dataset, computing the preformance measures as well. Assume that the first 60% of samples constitute the traing set while the remaining 40% of samples constitute the test set. All tokens in the vocabulary should be used as attributes.\n",
    "\n",
    "Place your code in the cell below."
   ]
  },
  {
   "cell_type": "code",
   "execution_count": 10,
   "metadata": {},
   "outputs": [
    {
     "name": "stdout",
     "output_type": "stream",
     "text": [
      "1. Decision Tree classifier\n",
      "\n",
      "              precision    recall  f1-score   support\n",
      "\n",
      "    negative       0.39      0.20      0.27       109\n",
      "    positive       0.92      0.97      0.95      1091\n",
      "\n",
      "    accuracy                           0.90      1200\n",
      "   macro avg       0.65      0.58      0.61      1200\n",
      "weighted avg       0.88      0.90      0.88      1200\n",
      "\n",
      "\n",
      "2. Multinomial Naive Bayes classifier\n",
      "\n",
      "              precision    recall  f1-score   support\n",
      "\n",
      "    negative       0.34      0.12      0.18       109\n",
      "    positive       0.92      0.98      0.95      1091\n",
      "\n",
      "    accuracy                           0.90      1200\n",
      "   macro avg       0.63      0.55      0.56      1200\n",
      "weighted avg       0.87      0.90      0.88      1200\n",
      "\n",
      "\n",
      "3. Artificial Neural Networks classifier\n",
      "\n",
      "              precision    recall  f1-score   support\n",
      "\n",
      "    negative       0.71      0.28      0.40       109\n",
      "    positive       0.93      0.99      0.96      1091\n",
      "\n",
      "    accuracy                           0.92      1200\n",
      "   macro avg       0.82      0.63      0.68      1200\n",
      "weighted avg       0.91      0.92      0.91      1200\n",
      "\n"
     ]
    }
   ],
   "source": [
    "# your code\n",
    "dropneu = data.copy()\n",
    "dropneu = dropneu.drop(dropneu[dropneu.rating == 'neutral'].index)\n",
    "dropneu = dropneu.dropna().reset_index(drop=True)\n",
    "vectorizer = CountVectorizer(analyzer=lambda x: x.split())\n",
    "\n",
    "x_dense = vectorizer.fit_transform(dropneu['verified_reviews'])\n",
    "x_sparse = pd.DataFrame.sparse.from_spmatrix(x_dense, columns=vectorizer.get_feature_names())\n",
    "y = dropneu['rating']\n",
    "x_train, x_test, y_train, y_test = train_test_split(x_sparse, y, test_size=0.4, shuffle = False)\n",
    "    \n",
    "    \n",
    "print('1. Decision Tree classifier')\n",
    "print()\n",
    "\n",
    "# create a decision tree classifier\n",
    "classifier = tree.DecisionTreeClassifier()\n",
    "\n",
    "# train the model \n",
    "model = classifier.fit(x_train, y_train)\n",
    "\n",
    "y_test_predicted = model.predict(x_test)\n",
    "\n",
    "# print different evaluation metrics \n",
    "print(classification_report(y_test, y_test_predicted))\n",
    "print()\n",
    "\n",
    "print('2. Multinomial Naive Bayes classifier')\n",
    "print()\n",
    "\n",
    "# create a decision tree classifier\n",
    "classifier = MultinomialNB()\n",
    "\n",
    "# train the model \n",
    "model = classifier.fit(x_train, y_train)\n",
    "\n",
    "y_test_predicted = model.predict(x_test)\n",
    "\n",
    "# print different evaluation metrics \n",
    "print(classification_report(y_test, y_test_predicted))\n",
    "print()\n",
    "\n",
    "print('3. Artificial Neural Networks classifier')\n",
    "print()\n",
    "\n",
    "# create a decision tree classifier\n",
    "classifier = MLPClassifier(hidden_layer_sizes=200)\n",
    "\n",
    "# train the model \n",
    "model = classifier.fit(x_train, y_train)\n",
    "\n",
    "y_test_predicted = model.predict(x_test)\n",
    "\n",
    "# print different evaluation metrics \n",
    "print(classification_report(y_test, y_test_predicted))"
   ]
  },
  {
   "cell_type": "markdown",
   "metadata": {},
   "source": [
    "#### Task 4.5\n",
    "Compare these results to the results obtained in scenario #1 (part 4). Is there any difference in the metrics for either of the classes (i.e. consider positive and negative classes individually)?"
   ]
  },
  {
   "cell_type": "raw",
   "metadata": {},
   "source": [
    "# Drop neutral class make a big promotion for accuracy of negative class, didn't make big differernce to positive class.It is beacuse the amount of data in positive class is huge compare to neutral class. \n",
    "But the amount of data in negative class is similar to neutral class, therefore a big change of accuracy for negative class.\n",
    "But the overall accuracy is increased, so it is a good decision to drop data in neutral class."
   ]
  },
  {
   "cell_type": "markdown",
   "metadata": {},
   "source": [
    "## Part 5 [8 marks]\n",
    "\n",
    "In this part you need to develop your own method (pipeline) for sentiment analysis. You can create new code cells (to place your code) and Raw NBConvert cells (to descibe the steps you are taking to develop your model, or make a comment).\n",
    "\n",
    "You can use either Decision Tree, Multinomial Naive Bayes (MNB), or Artificial Neural Network (ANN) classifiers. If you use parameters for your classifier, the you need to justify the values that you chose for them in writing or in coding & writing (if it is based on evaluation resuts) - similar to Part 2.\n",
    "\n",
    "Since this part of the assignment carries the highest mark, the explanation of your method and its evaluation should be descibed in detail.\n",
    "\n",
    "Optionally: you can also make plots to visualize your findings. "
   ]
  },
  {
   "cell_type": "markdown",
   "metadata": {},
   "source": [
    "# First step is preprocess data.\n",
    "\n",
    "   For machine learning, preprocessing data is very important, not only helpful in imporving accuracy of prediction, but also can help reshaping data to make any math calculation easier."
   ]
  },
  {
   "cell_type": "code",
   "execution_count": 11,
   "metadata": {},
   "outputs": [],
   "source": [
    "# Read data from tsv file\n",
    "origin = pd.read_csv('amazon_alexa.tsv', sep='\\t')"
   ]
  },
  {
   "cell_type": "markdown",
   "metadata": {},
   "source": [
    "Firstly, there are 5 classes in 'rating' column, to increase the prediction acccuracy, merge similar classes into one is a good method. So data in 'rating' changed to three class 'negative', 'neutral' and 'positive'. "
   ]
  },
  {
   "cell_type": "code",
   "execution_count": 12,
   "metadata": {},
   "outputs": [],
   "source": [
    "# change 5 rating levels into 3 classes\n",
    "origin.loc[origin['rating'] == 1, 'rating'] = 'negative'\n",
    "origin.loc[origin['rating'] == 2, 'rating'] = 'negative'\n",
    "origin.loc[origin['rating'] == 3, 'rating'] = 'neutral'\n",
    "origin.loc[origin['rating'] == 4, 'rating'] = 'positive'\n",
    "origin.loc[origin['rating'] == 5, 'rating'] = 'positive'"
   ]
  },
  {
   "cell_type": "markdown",
   "metadata": {},
   "source": [
    "From the orignal data, I found that the 'feedback' column is '0' when the rating is '1' or '2', which is 'negative' review, and for neutral and positive classes, 'feedback' is always '1', which can be used to separate and identify reviews in different class. So I merged 'verified_reviews' column and 'feedback' column to a new column: 'newcolumn' at first. After I run the code, the accuracy increased from 91% t0 96%, which is a big improvment, but then I noticed that the current feedback is depend on the rating that customer made. When dealing with reviews in real life outside the test set, there will be no rating and no feedback availiable to help machine learning. So I decide NOT to use 'feedback' column. "
   ]
  },
  {
   "cell_type": "code",
   "execution_count": 13,
   "metadata": {},
   "outputs": [],
   "source": [
    "pre4 = origin.copy()\n",
    "\n",
    "# merge 'verified_reviews' column and 'feedback' column to a new column (not choosen)\n",
    "pre4['newcolumn'] = pre4['verified_reviews'] +' '+ pre4['feedback'].map(str)"
   ]
  },
  {
   "cell_type": "markdown",
   "metadata": {},
   "source": [
    "Next is to remove URLS, symbols and stopwords, and make all words into lower case. Because including those is not meaningful for machine identifing the rating of reviews."
   ]
  },
  {
   "cell_type": "code",
   "execution_count": 14,
   "metadata": {},
   "outputs": [],
   "source": [
    "# remove URLS and symbols, and make all words into lower case\n",
    "pre4['verified_reviews'] = pre4['verified_reviews'].map(lambda pre: re.sub(r'https?\\S+', '', pre).lower())\n",
    "pre4['verified_reviews'] = pre4['verified_reviews'].map(lambda pre: re.sub(r'[^A-Za-z\\d\\'\\#\\@\\$\\s*]', '', pre).lower())\n",
    "\n",
    "# remove stopwords\n",
    "stopword = stopwords.words('english')\n",
    "listnew = []\n",
    "for i in pre4.index:\n",
    "    verifiedreviews = pre4.verified_reviews[i].split()\n",
    "    listnew.append(' '.join([item for item in verifiedreviews if item not in stopword]))\n",
    "\n",
    "pre4['verified_reviews'] = listnew"
   ]
  },
  {
   "cell_type": "markdown",
   "metadata": {},
   "source": [
    "Consider the data in neutral class:"
   ]
  },
  {
   "cell_type": "code",
   "execution_count": 15,
   "metadata": {},
   "outputs": [],
   "source": [
    "# drop data in neutral class (not choosen)\n",
    "dropneu = pre4.copy()\n",
    "dropneu = dropneu.drop(dropneu[dropneu.rating == 'neutral'].index)\n",
    "dropneu = dropneu.dropna().reset_index(drop=True)"
   ]
  },
  {
   "cell_type": "code",
   "execution_count": 16,
   "metadata": {},
   "outputs": [
    {
     "data": {
      "text/plain": [
       "<AxesSubplot:>"
      ]
     },
     "execution_count": 16,
     "metadata": {},
     "output_type": "execute_result"
    },
    {
     "data": {
      "image/png": "[encoded data removed]",
      "text/plain": [
       "<Figure size 432x288 with 1 Axes>"
      ]
     },
     "metadata": {
      "needs_background": "light"
     },
     "output_type": "display_data"
    }
   ],
   "source": [
    "origin['rating'].value_counts().plot(kind='bar')"
   ]
  },
  {
   "cell_type": "raw",
   "metadata": {},
   "source": [
    "Advantage for drop data in neutral class:\n",
    "(1) From the plot above, data in neutral class is in very small percentage,\n",
    "(2) neutral class is not important as reviews in positive class or negative class, \n",
    "(3) it helps increasing accuracy of prediction\n",
    "I still decide not drop neutral class because there are lots of other ways we can to with data to improving prediction accuracy, drop a class from three is not a good idea beacuse if we use this model for other types of predict rating, the neutral evaluation might be important.\n",
    "So I decided not to drop any data."
   ]
  },
  {
   "cell_type": "markdown",
   "metadata": {},
   "source": [
    "Final step for preprocessing data is to convert sentances in 'verified_reciews' into sparse matrix, because sparse matrix form is more convenient for machine learning, because we need to use those data for machine learning, data in sparce matrix form makes mechine learning doing basic mathematical operation and other computation easier. "
   ]
  },
  {
   "cell_type": "code",
   "execution_count": 17,
   "metadata": {},
   "outputs": [],
   "source": [
    "# into sparse matrix\n",
    "vectorizer = CountVectorizer(analyzer=lambda x: x.split(), max_features=1000)\n",
    "x_dense = vectorizer.fit_transform(pre4['verified_reviews'])\n",
    "x_sparse = pd.DataFrame.sparse.from_spmatrix(x_dense, columns=vectorizer.get_feature_names())"
   ]
  },
  {
   "cell_type": "markdown",
   "metadata": {},
   "source": [
    " # Next is choose classifer"
   ]
  },
  {
   "cell_type": "markdown",
   "metadata": {},
   "source": [
    "From Decision Tree, Multinomial Naive Bayes (MNB), or Artificial Neural Network (ANN) classifiers, I decided to use ANN classifier. Because from same conditions, ANN got highest accuracy in almost situations. "
   ]
  },
  {
   "cell_type": "markdown",
   "metadata": {},
   "source": [
    "After that is to adjust parameter inside classifier. First thing came into my mind is to change the number of hidden neurons, "
   ]
  },
  {
   "cell_type": "raw",
   "metadata": {},
   "source": [
    "hidden neurons = 256 accuracy:[0.90, 0.89, 0.90, 0.89, 0.91, 0.90, 0.90, 0.90, 0.90, 0.89] average accuracy:0.898\n",
    "hidden neurons = 668 accuracy:[0.90, 0.90, 0.89, 0.92, 0.90, 0.90, 0.91, 0.91, 0.90, 0.90] average accuracy:0.903\n",
    "hidden neurons = 900 accuracy:[0.90, 0.90, 0.91, 0.89, 0.90, 0.89, 0.90, 0.89, 0.90, 0.90] average accuracy:0.898"
   ]
  },
  {
   "cell_type": "markdown",
   "metadata": {},
   "source": [
    "when the number goes higher, the time spend on training data goes slower. When number of hidden neurons is 668, the average accuracy and the time spend is relatively good."
   ]
  },
  {
   "cell_type": "raw",
   "metadata": {},
   "source": [
    "solver=lbfgs [0.88, 0.90, 0.90, 0.88, 0.90, 0.89, 0.90, 0.90, 0.90, 0.90] average accuracy:0.895\n",
    "solver=adam  [0.89, 0.89, 0.91, 0.90, 0.92, 0.89, 0.89, 0.91, 0.92, 0.90] average accuracy:0.902\n",
    "solver=sgd   [0.87, 0.88, 0.86, 0.87, 0.88, 0.86, 0.88, 0.88, 0.87, 0.88] average accuracy:0.873"
   ]
  },
  {
   "cell_type": "markdown",
   "metadata": {},
   "source": [
    "time spend by lbfgs solver is the least, but adam gives the highest accuracy."
   ]
  },
  {
   "cell_type": "raw",
   "metadata": {},
   "source": [
    "activation=identity [0.89, 0.90, 0.88, 0.89, 0.89, 0.88, 0.89, 0.89, 0.90, 0.90] average accuracy: 0.891\n",
    "activation=logistic [0.90, 0.89, 0.89, 0.89, 0.89, 0.90, 0.88, 0.89, 0.89, 0.90] average accuracy: 0.892\n",
    "activation=tanh     [0.88, 0.89, 0.89, 0.90, 0.88, 0.89, 0.88, 0.89, 0.88, 0.87] average accuracy: 0.885\n",
    "activation=relu     [0.91, 0.88, 0.90, 0.90, 0.91, 0.90, 0.89, 0.89, 0.90, 0.92] average accuracy: 0.900"
   ]
  },
  {
   "cell_type": "markdown",
   "metadata": {},
   "source": [
    "Using ReLU as a activate function, it shows the highest overall prediction accuracy."
   ]
  },
  {
   "cell_type": "markdown",
   "metadata": {},
   "source": [
    "To show the effect of different parameter value."
   ]
  },
  {
   "cell_type": "code",
   "execution_count": 18,
   "metadata": {},
   "outputs": [
    {
     "data": {
      "image/png": "[encoded data removed]",
      "text/plain": [
       "<Figure size 432x288 with 1 Axes>"
      ]
     },
     "metadata": {
      "needs_background": "light"
     },
     "output_type": "display_data"
    }
   ],
   "source": [
    "x_data = ['256', '668', '900', 'lbfgs', 'sgd', 'identity', 'logistic', 'tanh']\n",
    "y_data = [0.898, 0.903, 0.898, 0.895, 0.873, 0.891, 0.892, 0.885]\n",
    "plt.plot(x_data,y_data)\n",
    "plt.show()"
   ]
  },
  {
   "cell_type": "code",
   "execution_count": 30,
   "metadata": {},
   "outputs": [],
   "source": [
    "y = pre4['rating']\n",
    "# separate data set into training set and test set\n",
    "x_train, x_test, y_train, y_test = train_test_split(x_sparse, y, test_size=0.4)\n",
    "\n",
    "# use ANN classifier\n",
    "\n",
    "# size256 = MLPClassifier(hidden_layer_sizes=256, solver='adam', activation='relu')\n",
    "# size900 = MLPClassifier(hidden_layer_sizes=900, solver='adam', activation='relu')\n",
    "\n",
    "# solverAdam = MLPClassifier(hidden_layer_sizes=668, solver='adam', activation='relu')\n",
    "# solverSgd = MLPClassifier(hidden_layer_sizes=668, solver='sgd', activation='relu')\n",
    "\n",
    "# activationIdentity = MLPClassifier(hidden_layer_sizes=668, solver='adam', activation='identity')\n",
    "# activationLogistic = MLPClassifier(hidden_layer_sizes=668, solver='adam', activation='logistic')\n",
    "# activationTanh = MLPClassifier(hidden_layer_sizes=668, solver='adam', activation='tanh')\n",
    "\n",
    "classifier = MLPClassifier(hidden_layer_sizes=668, solver='adam', activation='relu')"
   ]
  },
  {
   "cell_type": "markdown",
   "metadata": {},
   "source": [
    "# Training Model"
   ]
  },
  {
   "cell_type": "code",
   "execution_count": 31,
   "metadata": {},
   "outputs": [],
   "source": [
    "# train the model \n",
    "model = classifier.fit(x_train, y_train)\n",
    "y_test_predicted = model.predict(x_test)"
   ]
  },
  {
   "cell_type": "markdown",
   "metadata": {},
   "source": [
    "# print different evaluation metrics"
   ]
  },
  {
   "cell_type": "code",
   "execution_count": 32,
   "metadata": {},
   "outputs": [
    {
     "name": "stdout",
     "output_type": "stream",
     "text": [
      "              precision    recall  f1-score   support\n",
      "\n",
      "    negative       0.63      0.43      0.51       107\n",
      "     neutral       0.68      0.33      0.45        63\n",
      "    positive       0.92      0.98      0.95      1090\n",
      "\n",
      "    accuracy                           0.90      1260\n",
      "   macro avg       0.74      0.58      0.64      1260\n",
      "weighted avg       0.88      0.90      0.89      1260\n",
      "\n"
     ]
    }
   ],
   "source": [
    "# print different evaluation metrics \n",
    "print(classification_report(y_test, y_test_predicted))"
   ]
  },
  {
   "cell_type": "markdown",
   "metadata": {},
   "source": [
    "# Overall, I merge 5 rating levels into 3 classes; remove URLS, symbols, stopwords and make all words into lower case; convert sentances in 'verified_reciews' into sparse matrix; use ANN classifier with number of hidden neurons = 668. And the final accuracy is arround 91%."
   ]
  },
  {
   "cell_type": "code",
   "execution_count": null,
   "metadata": {},
   "outputs": [],
   "source": []
  }
 ],
 "metadata": {
  "kernelspec": {
   "display_name": "Python 3",
   "language": "python",
   "name": "python3"
  },
  "language_info": {
   "codemirror_mode": {
    "name": "ipython",
    "version": 3
   },
   "file_extension": ".py",
   "mimetype": "text/x-python",
   "name": "python",
   "nbconvert_exporter": "python",
   "pygments_lexer": "ipython3",
   "version": "3.8.7"
  }
 },
 "nbformat": 4,
 "nbformat_minor": 4
}
