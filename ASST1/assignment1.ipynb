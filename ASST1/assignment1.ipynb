{
 "cells": [
  {
   "cell_type": "markdown",
   "metadata": {},
   "source": [
    "# COMP3411/9418 21T0 Assignment 1\n",
    "\n",
    "- Lecturer: Anna Trofimova\n",
    "- School of Computer Science and Engineering, UNSW Sydney\n",
    "- Last Update 13th January at 18:00pm, 2021\n",
    "$$\n",
    "% macros\n",
    "\\newcommand{\\indep}{\\perp \\!\\!\\!\\perp}\n",
    "$$"
   ]
  },
  {
   "cell_type": "markdown",
   "metadata": {},
   "source": [
    "## Student:\n",
    "Zixuan Guo, z5173593"
   ]
  },
  {
   "cell_type": "markdown",
   "metadata": {},
   "source": [
    "### Submission\n",
    "This interactive notebook contains the instructions to complete assignment 1; You should submit this notebook with the code and answers in one single file in .ipybn format with the name assignment1.ipybn. **Write your name and zID in the cell above** (to edit the markdown text double-click the cell).\n",
    "\n",
    "There is a maximum file size cap of 5MB, so make sure your submission does not exceed this size. The submitted notebook should contain all your source code and answers. You can add new cells and use markdown text to organise and explain your implementation/answer.\n",
    "\n",
    "Submit your files using give. On a CSE Linux machine, type the following on the command-line:"
   ]
  },
  {
   "cell_type": "raw",
   "metadata": {},
   "source": [
    "$ give cs3411 ass1 assignment1.ipynb"
   ]
  },
  {
   "cell_type": "markdown",
   "metadata": {},
   "source": [
    "The submission deadline is **22nd January at 11.59pm, 2021.**"
   ]
  },
  {
   "cell_type": "markdown",
   "metadata": {},
   "source": [
    "### Late Submission Policy \n",
    "The penalty is set at 20% per late day. This is ceiling penalty, so if your submission is marked 60/100 and it was submitted two days late, you still get 60/100. If you submit 5 days later, then the penalty is 100% and your mark will be 0."
   ]
  },
  {
   "cell_type": "markdown",
   "metadata": {},
   "source": [
    "### Plagiarism\n",
    "This is an individual assignment. Remember that **all** work submitted for this assignment must be your own **individual** work and no code\n",
    "sharing or copying is allowed. You may use code from the Internet only with suitable attribution\n",
    "of the source in your program. **Do not use public code repositories as your code might be copied.** Keep in mind that sharing parts of assignment solutions is a form of plagiarism. All submitted assignments will be run through plagiarism detection software to detect similarities to other submissions. You should carefully read the UNSW policy on academic integrity and plagiarism. \n",
    "\n",
    "### **Note: if your life is falling apart and you are tempted to plagiarize as to not fail the assignment, please send me an email instead. I would rather grant you an extention than report you to the Student Conduct and Integrity Unit**."
   ]
  },
  {
   "cell_type": "markdown",
   "metadata": {},
   "source": [
    "### Description\n",
    "\n",
    "This assignment consists of two problems presented in a puzzle game context. For the first problem, you will be implementing a path search problem along with common search algorithms and evaluating their properties. For the second problem, you will be exploring how to define and solve a constraint satisfaction problem. To implement the solutions, you have to use AIPython code that provides you with many implemented classes and examples of their use.  \n",
    "\n",
    "When working with a Jupyter notebook, you can edit the \\*.py files either in the Jupyter interface (in your browser) or with your favorite editor (e.g., PyCharm). Whenever you save a \\*.py file, the notebook will reload their content directly.\n",
    "\n",
    "The libraries that you can use (and need) in this assignment are  the following (run the cell below to import the libraries):"
   ]
  },
  {
   "cell_type": "code",
   "execution_count": 1,
   "metadata": {},
   "outputs": [],
   "source": [
    "import sys\n",
    "sys.path.insert(0, \"aipython\")\n",
    "\n",
    "import time\n",
    "import numpy as np\n",
    "from aipython.searchGeneric import *\n",
    "from aipython.searchProblem import *\n",
    "from aipython.cspProblem import *\n",
    "from aipython.cspSearch import *"
   ]
  },
  {
   "cell_type": "markdown",
   "metadata": {},
   "source": [
    "*Tip: If you placed the notebook correctly it should not give you any errors.*\n",
    "\n",
    "*If you think that there are other libraries you might need then send an email to the lecturer-in-charge to confirm.*"
   ]
  },
  {
   "cell_type": "markdown",
   "metadata": {},
   "source": [
    "### Part 1 - Heuristics [5 marks]\n",
    "\n",
    "This part of the assignment is based on a popular puzzle, Game of Fifteen, also known as 15-puzzle. The game consists of 15 numbered tiles on a four by four grid where one tile is missing. To solve the puzzle, the tiles must be moved so that they are ordered from 1 to 15. The goal state of the puzzle is defined as a multidimensional array of digits#, where 0 represents the missing tile, as follow:"
   ]
  },
  {
   "cell_type": "code",
   "execution_count": 2,
   "metadata": {},
   "outputs": [],
   "source": [
    "goal = [[1, 2, 3, 4], \n",
    "        [5, 6, 7, 8], \n",
    "        [9, 10, 11, 12], \n",
    "        [13, 14, 15, 0]]"
   ]
  },
  {
   "cell_type": "markdown",
   "metadata": {},
   "source": [
    "#### Task 1.1\n",
    "Edit the code below to implement a search problem class representing the Game of Fifteen that uses heuristic based on Manhattan Distance (h1). The class must be implemented by extending the class Search\\_problem. \n",
    "\n",
    "Manhattan Distance between two points $p1$ at $(x1, y1)$ and $p2$ at $(x2, y2)$ is $d_{M}(p1, p2) = |x1 - x2| + |y1 - y2|$\n",
    "\n",
    "*Tip: If you have problems understanding how to overwrite methods take a look at the implementation of Search_problem_from_explicit_graph class in searchProblem.py*\n"
   ]
  },
  {
   "cell_type": "code",
   "execution_count": 3,
   "metadata": {},
   "outputs": [],
   "source": [
    "class GameFifteenProblem(Search_problem):\n",
    "    \n",
    "    def __init__(self, start, goal):\n",
    "        self.start = start\n",
    "        goal = np.array(goal)\n",
    "        self.goal = goal\n",
    "        \n",
    "        return \n",
    "    \n",
    "    def start_node(self):\n",
    "        \"\"\"Returns the start node\"\"\"\n",
    "        return self.start\n",
    "    \n",
    "    def is_goal(self, node):\n",
    "        \"\"\"Returns True if the node is the goal, otherwise False\"\"\"\n",
    "        node = np.array(node)\n",
    "        goal = np.array(self.goal)\n",
    "        return (node == goal).all()\n",
    "    \n",
    "    def neighbors(self, node):\n",
    "        \"\"\"Returns a list of the arcs for the neighbors of node, for example: \n",
    "        return [Arc(node, to_neighbor_node1, cost1), Arc(node, to_neighbor_node2, cost2)]\"\"\"\n",
    "        a = np.array(node)\n",
    "        \n",
    "        nei = np.where(a == 0)\n",
    "        x = nei[0][0]\n",
    "        y = nei[1][0]\n",
    "        res = []\n",
    "        \n",
    "        if x + 1 < 4:\n",
    "            down = np.copy(a)\n",
    "            down[x][y] = down[x+1][y]\n",
    "            down[x+1][y] = 0\n",
    "            result = Arc(node, down.tolist(), 1)\n",
    "            res.append(result)\n",
    "\n",
    "        if x - 1 > -1:\n",
    "            up = np.copy(a)\n",
    "            up[x][y] = up[x-1][y]\n",
    "            up[x-1][y] = 0\n",
    "            result = Arc(node, up.tolist(), 1)\n",
    "            res.append(result)\n",
    "\n",
    "        if y + 1 < 4:\n",
    "            right = np.copy(a)\n",
    "            right[x][y] = right[x][y+1]\n",
    "            right[x][y+1] = 0\n",
    "            result = Arc(node, right.tolist(), 1)\n",
    "            res.append(result)\n",
    "\n",
    "        if y - 1 > -1:\n",
    "            left = np.copy(a)\n",
    "            left[x][y] = left[x][y-1]\n",
    "            left[x][y-1] = 0\n",
    "            result = Arc(node, left.tolist(), 1)\n",
    "            res.append(result)\n",
    "            \n",
    "        return res\n",
    "    \n",
    "     \n",
    "    def heuristic(self, node):\n",
    "        \"\"\"Returns the heuristic value of the node \n",
    "        based on the Manhattan distance\"\"\"\n",
    "        i = 0\n",
    "        j = 0\n",
    "        re = 0\n",
    "        while i < 4:\n",
    "            while j < 4:\n",
    "                n = self.goal[i][j]\n",
    "                if n != 0:\n",
    "                    p = np.where(node==n)\n",
    "                    x = p[0][0]\n",
    "                    y = p[1][0]\n",
    "                    re = re + abs(x-i) + abs(y-j)\n",
    "                j+=1\n",
    "            i+=1\n",
    "            j=0\n",
    "        return re"
   ]
  },
  {
   "cell_type": "markdown",
   "metadata": {},
   "source": [
    "To validate the correctness of the problem class use the A* searcher algorithm (from searchGeneric.py) to find a solution. \n",
    "\n",
    "*Tip: The cost of the solution should be 9.*"
   ]
  },
  {
   "cell_type": "code",
   "execution_count": 4,
   "metadata": {},
   "outputs": [
    {
     "name": "stdout",
     "output_type": "stream",
     "text": [
      "11 paths have been expanded and 23 paths remain in the frontier 34\n",
      "Cost:  9\n"
     ]
    }
   ],
   "source": [
    "start = [[1, 2, 3, 4], \n",
    "         [9, 5, 6, 7], \n",
    "         [10, 11, 8, 0], \n",
    "         [13, 14, 15, 12]]\n",
    "puzzle = GameFifteenProblem(start, goal)\n",
    "searcher = AStarSearcher(puzzle)\n",
    "\n",
    "solution = searcher.search()\n",
    "print('Cost: ',  solution.cost)"
   ]
  },
  {
   "cell_type": "markdown",
   "metadata": {},
   "source": [
    "#### Task 1.2 \n",
    "Implement search problem classes representing the Game of Fifteen that use heuristics based on Euclidean Distance (h2) and the number of the inversions of the permutation (h3). The classes must be implemented by extending the class GameFifteenProblem.\n",
    "\n",
    "Euclidean distance between two points $p1$ at $(x1, y1)$ and $p2$ at $(x2, y2)$ is $d_{E}(p1, p2) =  \\sqrt{(x1-x2)^{2}+ (y1-y2)^{2}}$\n",
    "\n",
    "An inversion of a permutation $(t_{1},t_{2},...,t_{n})$ of the elements in a finite n-element set of positive integers $A=\\{1,2,...,n\\}$ is the pair $(t_{j},t_{k})$, where $j<k$ and $t_{j}>t_{k}$.\n",
    "\n",
    "$\\sum_{j=1}^{N} \\sum_{k=j}^{N}    \\{t_{j} > t_{k}: 1, otherwise: 0\\}$, where $N$ is the total number of elements and $t_{i}$ is the value of i-th element."
   ]
  },
  {
   "cell_type": "code",
   "execution_count": 5,
   "metadata": {},
   "outputs": [],
   "source": [
    "class GameFifteenProblemEuclidean(GameFifteenProblem):\n",
    "    def __init__(self, start, goal):\n",
    "        (super().__init__(start, goal))\n",
    "\n",
    "    def heuristic(self, node):\n",
    "        \"\"\"Returns the heuristic value of the node \n",
    "        based on the Euclidean distance\"\"\"\n",
    "        i = 0\n",
    "        j = 0\n",
    "        re = 0\n",
    "        while i < 4:\n",
    "            while j < 4:\n",
    "                n = self.goal[i][j]\n",
    "                if n != 0:\n",
    "                    p = np.where(node==n)\n",
    "                    x = p[0][0]\n",
    "                    y = p[1][0]\n",
    "                    re = re + np.sqrt((x-i)**2 + (y-j)**2)\n",
    "                j+=1\n",
    "            i+=1  \n",
    "            j=0\n",
    "        return re"
   ]
  },
  {
   "cell_type": "code",
   "execution_count": 6,
   "metadata": {},
   "outputs": [],
   "source": [
    "class GameFifteenProblemInversions(GameFifteenProblem):\n",
    "    def __init__(self, start, goal):\n",
    "        (super().__init__(start, goal))\n",
    "\n",
    "    def heuristic(self, node):\n",
    "        \"\"\"Returns the heuristic value of the node \n",
    "        based on the sum of the inversion number of a permutation\"\"\"\n",
    "        new = np.array(node)\n",
    "        new = new.reshape(1,-1)[0]\n",
    "        nlist = new.tolist()\n",
    "        i = 0\n",
    "        re = 0\n",
    "        while i < 16:\n",
    "            j = 0\n",
    "            while j+i < 16:\n",
    "                if nlist[i] > nlist[i+j] and nlist[i+j] != 0:\n",
    "                    re+=1\n",
    "                j+=1\n",
    "            i+=1    \n",
    "        return re"
   ]
  },
  {
   "cell_type": "code",
   "execution_count": 7,
   "metadata": {},
   "outputs": [
    {
     "name": "stdout",
     "output_type": "stream",
     "text": [
      "11 paths have been expanded and 23 paths remain in the frontier 34\n",
      "Cost:  9\n"
     ]
    }
   ],
   "source": [
    "start = [[1, 2, 3, 4], \n",
    "         [9, 5, 6, 7], \n",
    "         [10, 11, 8, 0], \n",
    "         [13, 14, 15, 12]]\n",
    "puzzle = GameFifteenProblem(start, goal)\n",
    "#puzzle = GameFifteenProblemEuclidean(start, goal)\n",
    "#puzzle=GameFifteenProblemInversions(start, goal)\n",
    "searcher = AStarSearcher(puzzle)\n",
    "#searcher = BreadthFirstSearcher(puzzle)\n",
    "\n",
    "#puzzlevalue = puzzle.heuristic(start)\n",
    "#print(puzzlevalue)\n",
    " \n",
    "solution = searcher.search()\n",
    "print('Cost: ',  solution.cost)"
   ]
  },
  {
   "cell_type": "markdown",
   "metadata": {},
   "source": [
    "#### Task 1.3\n",
    "Run A* Search algorithm with every heuristic for the following three start states:"
   ]
  },
  {
   "cell_type": "code",
   "execution_count": 8,
   "metadata": {
    "pycharm": {
     "name": "#%%\n"
    }
   },
   "outputs": [],
   "source": [
    "# optimal path cost: 14\n",
    "start14 = [[1, 2, 8, 3],\n",
    "           [5, 6, 7, 4],\n",
    "           [9, 15, 14, 11],\n",
    "           [13, 10, 12, 0]]\n",
    "\n",
    "# optimal path cost: 17\n",
    "start17 = [[1, 3, 6, 4],\n",
    "           [5, 2, 8, 14],\n",
    "           [9, 15, 7, 0],\n",
    "           [13, 10, 12, 11]]\n",
    "\n",
    "# optimal path cost: 23\n",
    "start23 = [[1, 3, 6, 4],\n",
    "           [5, 8, 15, 14],\n",
    "           [9, 2, 7, 0],\n",
    "           [13, 10, 12, 11]]"
   ]
  },
  {
   "cell_type": "markdown",
   "metadata": {},
   "source": [
    "In each case record in the tables below the heuristic values for the start states, the number of the expanded nodes, and the costs of the solutions."
   ]
  },
  {
   "cell_type": "markdown",
   "metadata": {},
   "source": [
    "| Heuristic | h-value: start14 | h-value: start17 | h-value: start23 |\n",
    "|-----------|------------------|------------------|------------------|\n",
    "|Manhattan  | #      12        | #       17       | #     19         | \n",
    "|Euclidean  | #      9.7       | #       13.5     | #    16.0        | \n",
    "|Inversions | #      20        | #       23       | #     29         | \n",
    "\n",
    "| Heuristic | expanded: start14 | expanded: start17 | expanded: start23 |\n",
    "|-----------|-------------------|-------------------|-------------------|\n",
    "|Manhattan  | #        36       | #       53        | #      243        | \n",
    "|Euclidean  | #        196      | #      309        | #    10083        |  \n",
    "|Inversions | #        29       | #     1258        | #    88226        |  \n",
    "\n",
    "| Heuristic | path cost: start14 | path cost: start17 | path cost: start23 |\n",
    "|-----------|--------------------|--------------------|--------------------|\n",
    "|Manhattan  | #        14        | #       17         | #       23         | \n",
    "|Euclidean  | #        14        | #       17         | #       23         |\n",
    "|Inversions | #        14        | #       17         | #       27         |"
   ]
  },
  {
   "cell_type": "markdown",
   "metadata": {},
   "source": [
    "Comment on the performance of the A* search algorithm with each heuristic based on the results in the tables. Explain which heuristic is better/worse and why."
   ]
  },
  {
   "cell_type": "raw",
   "metadata": {},
   "source": [
    "Manhanttan always gives the smallest expanded paths number. And Euclidean gives the lowest h-value.\n",
    "For start23, using inversion heuristic giaves a cost of 27, which is not optimal.\n",
    "So inversion is not a good choice."
   ]
  },
  {
   "cell_type": "markdown",
   "metadata": {},
   "source": [
    "### Part 2:  Search algorithms [7 marks]\n",
    "\n",
    "*Tip: If you have problems understanding how to overwrite methods take a look at the implementation of AStarSearcher and  Searcher classes in searchGeneric.py*\n",
    "\n",
    "*Tip: To initialize the frontier think of the type of structure used by the algorithm to store generated nodes. If it uses a priority queue use FrontierPQ from serachGeneric.py*\n",
    "\n",
    "#### Task 2.1\n",
    "Implement a class that performs Breadth First Search by extending class Searcher."
   ]
  },
  {
   "cell_type": "code",
   "execution_count": 9,
   "metadata": {},
   "outputs": [],
   "source": [
    "class BreadthFirstSearcher(Searcher):\n",
    "    \n",
    "    def __init__(self,  problem):\n",
    "        super().__init__(problem)\n",
    "\n",
    "    \"\"\" Initializes the forontier \"\"\"\n",
    "    def initialize_frontier(self):\n",
    "        self.frontier = []\n",
    "        return\n",
    "\n",
    "    \"\"\" Returns True if there are no more nodes to expand \"\"\"\n",
    "    def empty_frontier(self):\n",
    "        return self.frontier == []\n",
    "\n",
    "    \"\"\" Adds the path to the forontier \"\"\"\n",
    "    def add_to_frontier(self, path):\n",
    "        return self.frontier.append(path)\n",
    "    \n",
    "    \"\"\"returns (next) path from the problem's start node\n",
    "        to a goal node. \"\"\"\n",
    "    def search(self):\n",
    "        frontiers = self.frontier\n",
    "        #time_start = time.time()\n",
    "        while not self.empty_frontier():\n",
    "            path = frontiers.pop(0)\n",
    "            self.num_expanded += 1\n",
    "            #f time.time() - time_start > 300:\n",
    "            #   print(\"Time spend more than 5mins.\")\n",
    "\n",
    "            #   if not self.empty_frontier():\n",
    "            #       path = self.frontier.pop()\n",
    "            #   else:\n",
    "            #       self.add_to_frontier(Path(self.problem.start_node()))\n",
    "            #       path = self.frontier.pop() \n",
    "            #   return path\n",
    "            #f len(self.frontier) >= 1000000:\n",
    "            #   print(\"Memory used more than 1 million.\")\n",
    "            #   if not self.empty_frontier():\n",
    "            #       path = self.frontier.pop()\n",
    "            #   else:\n",
    "            #       self.add_to_frontier(Path(self.problem.start_node()))\n",
    "            #       path = self.frontier.pop() \n",
    "            #   return path\n",
    "            for neighs in self.problem.neighbors(path.end()):\n",
    "                if path.end not in list(path.nodes()):\n",
    "                    if self.problem.is_goal(neighs.to_node):\n",
    "                        #self.display(1, self.num_expanded, \"paths have been expanded and\",\n",
    "                         #   len(self.frontier), \"paths remain in the frontier\", self.num_expanded+len(self.frontier))\n",
    "                        p = Path(neighs, path)\n",
    "                        self.solution = p\n",
    "                        return p\n",
    "                    else:\n",
    "                        self.add_to_frontier(Path(path,neighs))"
   ]
  },
  {
   "cell_type": "code",
   "execution_count": 10,
   "metadata": {},
   "outputs": [],
   "source": [
    "#start = [[2, 3, 7, 4],\n",
    "#           [1, 6, 11, 8],\n",
    "#           [5, 10, 0, 12],\n",
    "#           [9, 13, 14, 15]]\n",
    "#\n",
    "#puzzle = GameFifteenProblem(start, goal)\n",
    "##puzzle = GameFifteenProblemEuclidean(start, goal)\n",
    "##puzzle=GameFifteenProblemInversions(start, goal)\n",
    "##searcher = AStarSearcher(puzzle)\n",
    "#searcher = BreadthFirstSearcher(puzzle)\n",
    "#\n",
    "##puzzlevalue = puzzle.heuristic(start)\n",
    "##print(puzzlevalue)\n",
    "# \n",
    "#solution = searcher.search()\n",
    "#print('Cost: ',  solution.cost)"
   ]
  },
  {
   "cell_type": "markdown",
   "metadata": {},
   "source": [
    "#### Task 2.2\n",
    "\n",
    "Implement a class that performs Iterative Deepening Search by extending class Searcher."
   ]
  },
  {
   "cell_type": "code",
   "execution_count": 11,
   "metadata": {},
   "outputs": [],
   "source": [
    "class IterativeDeepeningSearcher(Searcher):\n",
    "    def __init__(self, problem):\n",
    "        super().__init__(problem)\n",
    "\n",
    "    \"\"\" Initializes the forontier \"\"\"\n",
    "    def initialize_frontier(self):\n",
    "        self.frontier = []\n",
    "        return\n",
    "\n",
    "    \"\"\" Returns True if there are no more nodes to expand \"\"\"\n",
    "    def empty_frontier(self):\n",
    "        return self.frontier == []\n",
    "\n",
    "    \"\"\" Adds the path to the forontier \"\"\"\n",
    "    def add_to_frontier(self, path):\n",
    "        self.frontier.append(path)\n",
    "    \n",
    "    def search(self):\n",
    "        i = 0\n",
    "        while True:\n",
    "            while not self.empty_frontier():\n",
    "                path = self.frontier.pop()\n",
    "                self.num_expanded += 1\n",
    "                \n",
    "                if path.cost > i:\n",
    "                    continue\n",
    "                    \n",
    "                if self.problem.is_goal(path.end()):\n",
    "                    self.display(1, self.num_expanded, \"paths have been expanded and\",\n",
    "                            len(self.frontier), \"paths remain in the frontier\")\n",
    "                    self.solution = path\n",
    "                    return path    \n",
    "                \n",
    "                listr = self.problem.neighbors(path.end())\n",
    "                for arc in reversed(list(listr)):\n",
    "                    self.add_to_frontier(Path(path,arc))\n",
    "            i+=1\n",
    "            self.initialize_frontier()\n",
    "            self.add_to_frontier(Path(self.problem.start_node()))\n",
    "            self.num_expanded = 0\n"
   ]
  },
  {
   "cell_type": "code",
   "execution_count": 12,
   "metadata": {},
   "outputs": [],
   "source": [
    "#start = [[1, 2, 3, 4], \n",
    "#         [9, 5, 6, 7], \n",
    "#         [10, 11, 8, 0], \n",
    "#         [13, 14, 15, 12]]\n",
    "#puzzle = GameFifteenProblem(start, goal)\n",
    "##puzzle = GameFifteenProblemEuclidean(start, goal)\n",
    "##puzzle = GameFifteenProblemInversions(start, goal)\n",
    "##searcher = AStarSearcher(puzzle)\n",
    "##searcher = BreadthFirstSearcher(puzzle)\n",
    "#searcher = IterativeDeepeningSearcher(puzzle)\n",
    "#\n",
    "#\n",
    "##puzzlevalue = puzzle.heuristic(start)\n",
    "##print(puzzlevalue)\n",
    "# \n",
    "#solution = searcher.search()\n",
    "#print('Cost: ',  solution.cost)"
   ]
  },
  {
   "cell_type": "markdown",
   "metadata": {},
   "source": [
    "#### Task 2.3\n",
    "Implement a class that performs Iterative Deepening A* Search by extending class Searcher."
   ]
  },
  {
   "cell_type": "code",
   "execution_count": 13,
   "metadata": {},
   "outputs": [],
   "source": [
    "class IterativeDeepeningAStarSearcher(Searcher):\n",
    "    \"\"\" Initializes the forontier \"\"\"\n",
    "    def initialize_frontier(self):\n",
    "        self.frontier = []\n",
    "        return\n",
    "\n",
    "    \"\"\" Returns True if there are no more nodes to expand \"\"\"\n",
    "    def empty_frontier(self):\n",
    "        return self.frontier == []\n",
    "\n",
    "    \"\"\" Adds the path to the forontier \"\"\"\n",
    "    def add_to_frontier(self, path):\n",
    "        self.frontier.append(path)\n",
    "\n",
    "    def search_IDA(self, thres): \n",
    "        path = self.frontier.pop()\n",
    "        self.num_expanded += 1\n",
    "        \n",
    "        f = path.cost + self.problem.heuristic(path.end())\n",
    "        if f > thres:\n",
    "            return f\n",
    "\n",
    "        if self.problem.is_goal(path.end()):\n",
    "            self.display(1, self.num_expanded, \"paths have been expanded and\",\n",
    "                            len(self.frontier), \"paths remain in the frontier\")\n",
    "            self.solution = path\n",
    "            return path\n",
    "\n",
    "        min = float('inf')\n",
    "\n",
    "        listr = self.problem.neighbors(path.end())\n",
    "        for arc in list(listr):\n",
    "            self.add_to_frontier(Path(path,arc))\n",
    "\n",
    "            t = self.search_IDA(thres)\n",
    "            if isinstance(t, int) or isinstance(t, np.int64):\n",
    "                if t < min:\n",
    "                    t = int(t)\n",
    "                    min = t\n",
    "            else:\n",
    "                return t\n",
    "\n",
    "        return min \n",
    "    \n",
    "    def search(self):\n",
    "        thres = self.problem.heuristic(self.problem.start_node())\n",
    "        \n",
    "        while not self.empty_frontier():\n",
    "            result = self.search_IDA(thres)\n",
    "            infi = float('inf')\n",
    "\n",
    "            if isinstance(result, int):\n",
    "                thres = result\n",
    "                self.initialize_frontier()\n",
    "                self.add_to_frontier(Path(self.problem.start_node()))\n",
    "                self.num_expanded = 0\n",
    "            elif result == infi:\n",
    "                return None\n",
    "            else:\n",
    "                \n",
    "                return result\n",
    "            "
   ]
  },
  {
   "cell_type": "code",
   "execution_count": 14,
   "metadata": {},
   "outputs": [],
   "source": [
    "#start = [[7, 11, 12, 4],\n",
    "#           [2, 3, 14, 1],\n",
    "#           [6, 5, 13, 8],\n",
    "#           [9, 10, 15, 0]]\n",
    "#\n",
    "#puzzle = GameFifteenProblem(start, goal)\n",
    "#searcher = IterativeDeepeningAStarSearcher(puzzle)\n",
    "#\n",
    "#solution = searcher.search()\n",
    "##print(solution)\n",
    "#print('Cost: ',  solution.cost)"
   ]
  },
  {
   "cell_type": "markdown",
   "metadata": {},
   "source": [
    "#### Task 2.4\n",
    "Implement a class that performs Uniform Cost Search by extending class Searcher."
   ]
  },
  {
   "cell_type": "code",
   "execution_count": 15,
   "metadata": {},
   "outputs": [],
   "source": [
    "class UniformCostSearcher(Searcher):\n",
    "    \"\"\" Initializes the forontier \"\"\"\n",
    "    def initialize_frontier(self):\n",
    "        self.frontier = FrontierPQ()\n",
    "\n",
    "    \"\"\" Returns True if there are no more nodes to expand \"\"\"\n",
    "    def empty_frontier(self):\n",
    "        return self.frontier == []\n",
    "\n",
    "    \"\"\" Adds the path to the forontier \"\"\"\n",
    "    def add_to_frontier(self, path):\n",
    "        value = path.cost\n",
    "        self.frontier.add(path, value)"
   ]
  },
  {
   "cell_type": "code",
   "execution_count": 16,
   "metadata": {},
   "outputs": [],
   "source": [
    "#start = [[2, 3, 7, 4],\n",
    "#           [1, 6, 11, 8],\n",
    "#           [5, 10, 0, 12],\n",
    "#           [9, 13, 14, 15]]\n",
    "#puzzle = GameFifteenProblem(start, goal)\n",
    "#\n",
    "##searcher = AStarSearcher(puzzle)\n",
    "##searcher = BreadthFirstSearcher(puzzle)\n",
    "#searcher = UniformCostSearcher(puzzle)\n",
    "#\n",
    "#\n",
    "##puzzlevalue = puzzle.heuristic(start)\n",
    "##print(puzzlevalue)\n",
    "#\n",
    "#solution = searcher.search()\n",
    "#print('Cost: ',  solution.cost)"
   ]
  },
  {
   "cell_type": "markdown",
   "metadata": {},
   "source": [
    "#### Task 2.5\n",
    "\n",
    "Run Breadth First Search (BFS), Iterative Deepenining Search (IDS), Iterative Deepening A* Search (IDA\\*S), and Uniform Cost Search (UCS) algorithms on each of the 5 start states:"
   ]
  },
  {
   "cell_type": "code",
   "execution_count": 17,
   "metadata": {},
   "outputs": [
    {
     "name": "stdout",
     "output_type": "stream",
     "text": [
      "14 paths have been expanded and 26 paths remain in the frontier 40\n",
      "Cost:  11\n"
     ]
    }
   ],
   "source": [
    "# optimal path cost: 10\n",
    "start10 = [[2, 3, 7, 4],\n",
    "           [1, 6, 11, 8],\n",
    "           [5, 10, 0, 12],\n",
    "           [9, 13, 14, 15]]\n",
    "\n",
    "# optimal path cost: 24\n",
    "start24 = [[2, 7, 11, 4],\n",
    "           [6, 3, 12, 0],\n",
    "           [1, 5, 15, 8],\n",
    "           [9, 10, 13, 14]]\n",
    "\n",
    "# optimal path cost: 30\n",
    "start30 = [[2, 7, 11, 4],\n",
    "           [6, 3, 12, 0],\n",
    "           [1, 5, 15, 14],\n",
    "           [9, 10, 8, 13]]\n",
    "\n",
    "# optimal path cost: 36\n",
    "start36 = [[7, 11, 12, 4],\n",
    "           [2, 3, 14, 1],\n",
    "           [6, 5, 13, 8],\n",
    "           [9, 10, 15, 0]]\n",
    "\n",
    "# optimal path cost: 41\n",
    "start41 = [[7, 11, 12, 4],\n",
    "           [2, 3, 8, 14],\n",
    "           [10, 0, 5, 1],\n",
    "           [6, 9, 13, 15]]\n",
    "\n",
    "# your code\n",
    "\n",
    "#puzzle = GameFifteenProblem(start24, goal)\n",
    "\n",
    "#searcher = AStarSearcher(puzzle)\n",
    "#searcher = BreadthFirstSearcher(puzzle)\n",
    "#searcher = IterativeDeepeningSearcher(puzzle)\n",
    "#searcher = IterativeDeepeningAStarSearcher(puzzle)\n",
    "#searcher = UniformCostSearcher(puzzle)\n",
    "\n",
    "solution = searcher.search()\n",
    "print('Cost: ',  solution.cost)"
   ]
  },
  {
   "cell_type": "markdown",
   "metadata": {},
   "source": [
    "In each case, record in the table below the number of nodes generated during the search. If the algorithm runs out of memory or the number of nodes in the frontier exceeds 1 million items, just write “Mem” in your table. If the code runs for five minutes without producing output, terminate the process and write “Time” in your table.\n",
    "\n",
    "*Tip: To edit the table double click the cell below.*"
   ]
  },
  {
   "cell_type": "markdown",
   "metadata": {},
   "source": [
    "| Algorithm | 10      | 24      | 30      | 36      | 41      |\n",
    "|-----------|---------|---------|---------|---------|---------|\n",
    "|BFS        | 136265  | Time    | Time    | Time    | Time    |\n",
    "|A*         | 31      | 3461    | 5550    | 233373  | 803231  |\n",
    "|IDS        | 276613  | Time    | Time    | Time    | Time    |\n",
    "|IDA\\*S     | 20      | 233     | 2136    | 113908  | Time    |\n",
    "|UCS        | 592046  | Mem     | Mem     | Mem     | Mem     |"
   ]
  },
  {
   "cell_type": "markdown",
   "metadata": {},
   "source": [
    "Discuss the time and space efficiency of these four algorithms, comment on the results in the table."
   ]
  },
  {
   "cell_type": "raw",
   "metadata": {},
   "source": [
    "From the table above, \n",
    "BFS search for all neighbors for current node, then search for neighbors nodes of neighbors. For this fifteen puzzle, 15 numbers needs to be placed, it needs long time to find the goal.\n",
    "IDS search by DFS with a depth limit everytime. It needs to back to start node to search again and add 1 to the depth limit if didn't reach the goal state within the depth limit. So it use a long time.\n",
    "IDA* is the best algorithm in both time and space efficiency, as it shows results for all tests within time and space limit because it doesn't search for paths that are larger than the current optimal solution.\n",
    "UCS uses priority queue,  so take a very large amount of memory."
   ]
  },
  {
   "cell_type": "markdown",
   "metadata": {},
   "source": [
    "### Part 3: Deceptive Starting States [3 marks]\n",
    "\n",
    "#### Task 3.1 \n",
    "\n",
    "Run IDA* on the starting states below and report the number of the expanded nodes."
   ]
  },
  {
   "cell_type": "code",
   "execution_count": 18,
   "metadata": {},
   "outputs": [],
   "source": [
    "start37_1 = [[7, 11, 12, 4],\n",
    "             [2, 3, 14, 1],\n",
    "             [6, 5, 13, 0],\n",
    "             [9, 10, 15, 8]]\n",
    "\n",
    "start37_2 = [[7, 11, 12, 4],\n",
    "             [2, 3, 8, 14],\n",
    "             [6, 0, 1, 15],\n",
    "             [9, 5, 10, 13]]\n",
    "# your code\n",
    "#puzzle = GameFifteenProblem(start37_1, goal)\n",
    "#searcher = IterativeDeepeningAStarSearcher(puzzle)\n",
    "#solution = searcher.search()\n",
    "#print('Cost: ',  solution.cost)\n",
    "#\n",
    "#puzzle = GameFifteenProblem(start37_2, goal)\n",
    "#searcher = IterativeDeepeningAStarSearcher(puzzle)\n",
    "#solution = searcher.search()\n",
    "#print('Cost: ',  solution.cost)"
   ]
  },
  {
   "cell_type": "markdown",
   "metadata": {},
   "source": [
    "#### Task 3.2\n",
    "\n",
    "Explain why there is a difference between the number of the expanded nodes for these starting states if their costs of the optimal paths are the same."
   ]
  },
  {
   "cell_type": "raw",
   "metadata": {},
   "source": [
    "Paths expanded for start37_1 is 113909\n",
    "Paths expanded for start37_1 is 55889\n",
    "Although their cost are same, the place where numbers started not the same. When changing the place of '0' and its neighbors, the paths expanded have different order for each step, so with more and more steps, the difference between total number expanded get larger and larger."
   ]
  },
  {
   "cell_type": "markdown",
   "metadata": {},
   "source": [
    "### Part 4:  Constraint Satisfaction Problem [5 marks]\n",
    "\n",
    "This part of the assignment is based on another puzzle called Sudoku. The game consists of 9x9 grid with a few cells filled in with digits. The objective of the game is to fill the remaining cells so that each column, each row, and each of the nine 3×3 sub-grids contain all of the digits from 1 to 9.\n",
    "\n",
    "The start state of the puzzle is defined as a multidimensional array of numbers, where 0 represents empty cells, for example:"
   ]
  },
  {
   "cell_type": "code",
   "execution_count": 19,
   "metadata": {},
   "outputs": [],
   "source": [
    "grid = [[9, 5, 0, 8, 2, 7, 3, 0, 0],\n",
    "        [0, 8, 0, 1, 4, 0, 0, 5, 0],\n",
    "        [0, 1, 0, 5, 9, 0, 0, 0, 0],\n",
    "        [8, 3, 0, 0, 0, 0, 0, 7, 5],\n",
    "        [1, 6, 9, 7, 5, 2, 4, 3, 0],\n",
    "        [0, 7, 0, 0, 8, 0, 0, 6, 0],\n",
    "        [0, 9, 1, 0, 6, 0, 8, 4, 0],\n",
    "        [7, 0, 8, 0, 3, 1, 0, 0, 6],\n",
    "        [6, 2, 0, 4, 7, 8, 0, 9, 0]]\n"
   ]
  },
  {
   "cell_type": "markdown",
   "metadata": {},
   "source": [
    "*Tip: If you have problems with understanding how to implement constrains take a look at cspExamples.py and cspExamplesQueens.py*"
   ]
  },
  {
   "cell_type": "markdown",
   "metadata": {},
   "source": [
    "#### Task 4.1\n",
    "\n",
    "Write the code that defines constraint(s) and a function grid_to_csp that returns a CSP for a Sudoku puzzle:"
   ]
  },
  {
   "cell_type": "code",
   "execution_count": 20,
   "metadata": {},
   "outputs": [],
   "source": [
    "# define constraint function(s)\n",
    "def find_domain(grida):\n",
    "    a = np.array(grid)\n",
    "    domains={}\n",
    "    \n",
    "    for i in range(9):\n",
    "        for j in range(9):\n",
    "            if a[i][j] == 0:\n",
    "                arr = {1, 2, 3, 4, 5, 6, 7, 8, 9}\n",
    "                for m in a[i,...]:\n",
    "                    if m in arr:\n",
    "                        arr.remove(m)\n",
    "                for m in a[...,j]:\n",
    "                    if m in arr:\n",
    "                        arr.remove(m)\n",
    "                for m in a[(i//3)*3:(i//3+1)*3,(j//3)*3:(j//3+1)*3].flatten():\n",
    "                    if m in arr:\n",
    "                        arr.remove(m)\n",
    "                domains[(i, j)] = arr\n",
    "    return domains\n",
    "\n",
    "def notequal(a, b):\n",
    "    return a != b\n",
    "\n",
    "def constraint(grid):\n",
    "    a = np.array(grid)\n",
    "    constrain=[]\n",
    "    for i in range(9):\n",
    "        for j in range(9):\n",
    "            if a[i][j] == 0:\n",
    "                for m in range(9):\n",
    "                    if m != i and a[m][j] == 0:\n",
    "                        constrain.append(Constraint([(i, j), (m, j)],notequal))\n",
    "                for m in range(9):\n",
    "                    if m != j and a[i][m] == 0:\n",
    "                        constrain.append(Constraint([(i, j), (i, m)],notequal))\n",
    "                for m in range((i//3)*3,(i//3+1)*3):\n",
    "                    for n in range((j//3)*3,(j//3+1)*3):\n",
    "                        if m != i and n != j and a[m][n] == 0:\n",
    "                            constrain.append(Constraint([(i, j), (m, n)],notequal))\n",
    "    #print(constrain)\n",
    "    return constrain\n",
    "                                     \n",
    "# function that returns a csp\n",
    "def grid_to_csp(grid):\n",
    "    domains = find_domain(grid)\n",
    "    constraints = constraint(grid)\n",
    "    return CSP(domains, constraints)\n",
    "\n",
    "# csp\n",
    "csp = grid_to_csp(grid)"
   ]
  },
  {
   "cell_type": "markdown",
   "metadata": {},
   "source": [
    "#### Task 4.2\n",
    "\n",
    "Write the code that solves Sudoku csp using a search algorithms of your choice, print the solution."
   ]
  },
  {
   "cell_type": "code",
   "execution_count": 24,
   "metadata": {},
   "outputs": [
    {
     "name": "stdout",
     "output_type": "stream",
     "text": [
      "19066 paths have been expanded and 11 paths remain in the frontier 19077\n",
      "[[9 5 6 8 2 7 3 1 4]\n",
      " [2 8 7 1 4 3 6 5 9]\n",
      " [4 1 3 5 9 6 7 8 2]\n",
      " [8 3 2 6 1 4 9 7 5]\n",
      " [1 6 9 7 5 2 4 3 8]\n",
      " [5 7 4 3 8 9 2 6 1]\n",
      " [3 9 1 2 6 5 8 4 7]\n",
      " [7 4 8 9 3 1 5 2 6]\n",
      " [6 2 5 4 7 8 1 9 3]]\n"
     ]
    }
   ],
   "source": [
    "# your code\n",
    "solution = Searcher(Search_from_CSP(csp)).search()\n",
    "solutionend = solution.end()\n",
    "#print(solutionend)\n",
    "end = np.copy(grid)\n",
    "\n",
    "for i in range(9):\n",
    "    for j in range(9):\n",
    "        if end[i][j] == 0:\n",
    "            end[i][j] = solutionend[(i, j)]\n",
    "\n",
    "print(end)"
   ]
  },
  {
   "cell_type": "markdown",
   "metadata": {},
   "source": [
    "#### Task 4.3\n",
    "\n",
    "Descibe what do nodes represent in the search tree. Explain your choice of the search algorithm and compare it with any other search algorithm implemented in this assignemnt. "
   ]
  },
  {
   "cell_type": "raw",
   "metadata": {},
   "source": [
    "# your answer"
   ]
  }
 ],
 "metadata": {
  "kernelspec": {
   "display_name": "Python 3",
   "language": "python",
   "name": "python3"
  },
  "language_info": {
   "codemirror_mode": {
    "name": "ipython",
    "version": 3
   },
   "file_extension": ".py",
   "mimetype": "text/x-python",
   "name": "python",
   "nbconvert_exporter": "python",
   "pygments_lexer": "ipython3",
   "version": "3.8.7"
  }
 },
 "nbformat": 4,
 "nbformat_minor": 2
}
