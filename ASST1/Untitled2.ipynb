{
 "cells": [
  {
   "cell_type": "code",
   "execution_count": 3,
   "id": "tamil-notification",
   "metadata": {},
   "outputs": [
    {
     "name": "stdout",
     "output_type": "stream",
     "text": [
      "[[ 1  2  3  4  9  5  6  7 10 11  0  8 13 14 15 12]]\n",
      "[[1, 2, 3, 4, 9, 5, 6, 7, 10, 11, 0, 8, 13, 14, 15, 12]]\n",
      "[1, 2, 3, 4, 9, 5, 6, 7, 10, 11, 0, 8, 13, 14, 15, 12]\n"
     ]
    }
   ],
   "source": [
    "import numpy as np\n",
    "start = [[1, 2, 3, 4], \n",
    "         [9, 5, 6, 7], \n",
    "         [10, 11, 0, 8], \n",
    "         [13, 14, 15, 12]]\n",
    "new = np.array(start)\n",
    "new = np.reshape(new,(1,16))\n",
    "print(new)\n",
    "nlist = new.tolist()\n",
    "print(nlist)\n",
    "print(nlist[0])\n"
   ]
  },
  {
   "cell_type": "code",
   "execution_count": null,
   "id": "optimum-looking",
   "metadata": {},
   "outputs": [],
   "source": [
    "def heuristic(self, node):\n",
    "        \"\"\"Returns the heuristic value of the node \n",
    "        based on the Manhattan distance\"\"\"\n",
    "        i = 0\n",
    "        j = 0\n",
    "        re = 0\n",
    "        while i < 4:\n",
    "            while j < 4:\n",
    "                n = self.goal[i][j]\n",
    "                if n != 0:\n",
    "                    p = np.where(node==n)\n",
    "                    x = p[0][0]\n",
    "                    y = p[1][0]\n",
    "                    #re = re + abs(x-i) + abs(y-j)\n",
    "                    re = re + np.sqrt(np.square(x-i) + np.square(y-j))\n",
    "                j+=1\n",
    "            i+=1\n",
    "            j=0\n",
    "        return re"
   ]
  }
 ],
 "metadata": {
  "kernelspec": {
   "display_name": "Python 3",
   "language": "python",
   "name": "python3"
  },
  "language_info": {
   "codemirror_mode": {
    "name": "ipython",
    "version": 3
   },
   "file_extension": ".py",
   "mimetype": "text/x-python",
   "name": "python",
   "nbconvert_exporter": "python",
   "pygments_lexer": "ipython3",
   "version": "3.8.7"
  }
 },
 "nbformat": 4,
 "nbformat_minor": 5
}
