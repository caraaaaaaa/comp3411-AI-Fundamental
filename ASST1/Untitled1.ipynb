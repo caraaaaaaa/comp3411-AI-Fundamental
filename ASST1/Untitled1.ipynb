{
 "cells": [
  {
   "cell_type": "code",
   "execution_count": null,
   "id": "municipal-dividend",
   "metadata": {},
   "outputs": [],
   "source": [
    "import numpy as np\n",
    "start = [[1, 2, 3, 4], \n",
    "        [5, 6, 7, 8], \n",
    "        [9, 10, 11, 12], \n",
    "        [13, 14, 0, 15]]\n",
    "\n",
    "goal = [[1, 2, 3, 4], \n",
    "        [5, 6, 7, 8], \n",
    "        [9, 10, 11, 12], \n",
    "        [13, 14, 15, 0]]\n",
    "print(start)\n",
    "a = np.array(start)\n",
    "\n",
    "result = []\n",
    "\n",
    "nei = np.where(a == 0)\n",
    "x = int(nei[0])\n",
    "y = int(nei[1])\n",
    "\n",
    "if x + 1 < 4:\n",
    "    down = start.copy()\n",
    "    down[x][y] = down[x+1][y]\n",
    "    down[x+1][y] = 0\n",
    "    result = Arc(node, down)\n",
    "    res.append(result)\n",
    "    # print('down',down)\n",
    "if x - 1 > -1:\n",
    "    up = start.copy()\n",
    "    up[x][y] = up[x-1][y]\n",
    "    up[x-1][y] = 0\n",
    "    result = Arc(node, up)\n",
    "    res.append(result)\n",
    "    # print('up',up)\n",
    "if y + 1 < 4:\n",
    "    right = start.copy()\n",
    "    right[x][y] = right[x][y+1]\n",
    "    right[x][y+1] = 0\n",
    "    result = Arc(node, right)\n",
    "    res.append(result)\n",
    "    # print('right',right)\n",
    "if y - 1 > -1:\n",
    "    left = start.copy()\n",
    "    left[x][y] = left[x][y-1]\n",
    "    left[x][y-1] = 0\n",
    "    result = Arc(node, left)\n",
    "    res.append(result)\n",
    "    # print('left',left)\n",
    "print(res)"
   ]
  },
  {
   "cell_type": "code",
   "execution_count": 22,
   "id": "extraordinary-morning",
   "metadata": {},
   "outputs": [
    {
     "name": "stdout",
     "output_type": "stream",
     "text": [
      "3\n"
     ]
    }
   ],
   "source": [
    "print(x)"
   ]
  },
  {
   "cell_type": "code",
   "execution_count": 8,
   "id": "extraordinary-industry",
   "metadata": {},
   "outputs": [
    {
     "name": "stdout",
     "output_type": "stream",
     "text": [
      "[3]\n"
     ]
    }
   ],
   "source": [
    "print(x)"
   ]
  },
  {
   "cell_type": "code",
   "execution_count": 9,
   "id": "explicit-tuning",
   "metadata": {},
   "outputs": [
    {
     "name": "stdout",
     "output_type": "stream",
     "text": [
      "[3]\n"
     ]
    }
   ],
   "source": [
    "print(x)"
   ]
  },
  {
   "cell_type": "code",
   "execution_count": 10,
   "id": "cellular-suffering",
   "metadata": {},
   "outputs": [
    {
     "name": "stdout",
     "output_type": "stream",
     "text": [
      "[2]\n"
     ]
    }
   ],
   "source": [
    "print(y)"
   ]
  },
  {
   "cell_type": "code",
   "execution_count": 11,
   "id": "superior-tribe",
   "metadata": {},
   "outputs": [
    {
     "name": "stdout",
     "output_type": "stream",
     "text": [
      "[2]\n"
     ]
    }
   ],
   "source": [
    "print(y)"
   ]
  },
  {
   "cell_type": "code",
   "execution_count": 12,
   "id": "biological-thumbnail",
   "metadata": {},
   "outputs": [],
   "source": [
    "right = start"
   ]
  },
  {
   "cell_type": "code",
   "execution_count": 13,
   "id": "given-thompson",
   "metadata": {},
   "outputs": [
    {
     "name": "stdout",
     "output_type": "stream",
     "text": [
      "[[1, 2, 3, 4], [5, 6, 7, 8], [9, 10, 11, 12], [13, 14, 0, 15]]\n"
     ]
    }
   ],
   "source": [
    "print(right)"
   ]
  },
  {
   "cell_type": "code",
   "execution_count": 15,
   "id": "billion-future",
   "metadata": {},
   "outputs": [
    {
     "name": "stdout",
     "output_type": "stream",
     "text": [
      "15\n"
     ]
    }
   ],
   "source": []
  },
  {
   "cell_type": "code",
   "execution_count": null,
   "id": "german-promotion",
   "metadata": {},
   "outputs": [],
   "source": []
  }
 ],
 "metadata": {
  "kernelspec": {
   "display_name": "Python 3",
   "language": "python",
   "name": "python3"
  },
  "language_info": {
   "codemirror_mode": {
    "name": "ipython",
    "version": 3
   },
   "file_extension": ".py",
   "mimetype": "text/x-python",
   "name": "python",
   "nbconvert_exporter": "python",
   "pygments_lexer": "ipython3",
   "version": "3.8.7"
  }
 },
 "nbformat": 4,
 "nbformat_minor": 5
}
