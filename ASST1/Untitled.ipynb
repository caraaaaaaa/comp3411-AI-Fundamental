{
 "cells": [
  {
   "cell_type": "code",
   "execution_count": 3,
   "metadata": {},
   "outputs": [
    {
     "name": "stdout",
     "output_type": "stream",
     "text": [
      "[[ 1  2  3  4]\n",
      " [ 9  5  6  7]\n",
      " [10 11  8  0]\n",
      " [13 14 15 12]]\n",
      "1\n",
      "1\n"
     ]
    }
   ],
   "source": [
    "import numpy as np\n",
    "\n",
    "start = [[1, 2, 3, 4], \n",
    "         [9, 5, 6, 7], \n",
    "         [10, 11, 8, 0], \n",
    "         [13, 14, 15, 12]]\n",
    "\n",
    "a = np.array(start)\n",
    "\n",
    "print(a)\n",
    "print(a[0][0])\n",
    "print(a[0,0])"
   ]
  },
  {
   "cell_type": "code",
   "execution_count": 7,
   "metadata": {},
   "outputs": [
    {
     "name": "stdout",
     "output_type": "stream",
     "text": [
      "2.09808349609375e-05\n"
     ]
    }
   ],
   "source": [
    "import time\n",
    "start = time.time()\n",
    "\n",
    "end = time.time()\n",
    "print(end-start)"
   ]
  },
  {
   "cell_type": "code",
   "execution_count": 139,
   "metadata": {},
   "outputs": [
    {
     "name": "stdout",
     "output_type": "stream",
     "text": [
      "(1, 1)\n",
      "b =  (array([0, 0, 0, 1, 1, 1, 1, 1, 2, 2, 2, 2, 2, 2, 3, 3, 3, 3, 3, 4, 5, 5,\n",
      "       5, 5, 5, 5, 6, 6, 6, 6, 7, 7, 7, 7, 8, 8, 8]), array([2, 7, 8, 0, 2, 5, 6, 8, 0, 2, 5, 6, 7, 8, 2, 3, 4, 5, 6, 8, 0, 2,\n",
      "       3, 5, 6, 8, 0, 3, 5, 8, 1, 3, 6, 7, 2, 6, 8]))\n",
      "\n",
      "[0 0 0 1 1 1 1 1 2 2 2 2 2 2 3 3 3 3 3 4 5 5 5 5 5 5 6 6 6 6 7 7 7 7 8 8 8]\n",
      "[2 7 8 0 2 5 6 8 0 2 5 6 7 8 2 3 4 5 6 8 0 2 3 5 6 8 0 3 5 8 1 3 6 7 2 6 8]\n",
      "\n",
      "0000\n",
      "(0, 2)\n",
      "0\n",
      "{(0, 2): {4, 6}, (0, 7): {1}, (0, 8): {1, 4}, (1, 0): {2, 3}, (1, 2): {2, 3, 6, 7}, (1, 5): {3, 6}, (1, 6): {2, 6, 7, 9}, (1, 8): {2, 7, 9}, (2, 0): {2, 3, 4}, (2, 2): {2, 3, 4, 6, 7}, (2, 5): {3, 6}, (2, 6): {2, 6, 7}, (2, 7): {2, 8}, (2, 8): {2, 4, 7, 8}, (3, 2): {2, 4}, (3, 3): {6, 9}, (3, 4): {1}, (3, 5): {4, 6, 9}, (3, 6): {1, 2, 9}, (4, 8): {8}, (5, 0): {2, 4, 5}, (5, 2): {2, 4, 5}, (5, 3): {3, 9}, (5, 5): {3, 4, 9}, (5, 6): {1, 2, 9}, (5, 8): {1, 2, 9}, (6, 0): {3, 5}, (6, 3): {2}, (6, 5): {5}, (6, 8): {2, 3, 7}, (7, 1): {4}, (7, 3): {2, 9}, (7, 6): {2, 5}, (7, 7): {2}, (8, 2): {3, 5}, (8, 6): {1, 5}, (8, 8): {1, 3}}\n"
     ]
    }
   ],
   "source": [
    "import sys\n",
    "sys.path.insert(0, \"aipython\")\n",
    "\n",
    "import time\n",
    "import numpy as np\n",
    "from aipython.searchGeneric import *\n",
    "from aipython.searchProblem import *\n",
    "from aipython.cspProblem import *\n",
    "from aipython.cspSearch import *\n",
    "\n",
    "grid = [[9, 5, 0, 8, 2, 7, 3, 0, 0],\n",
    "        [0, 8, 0, 1, 4, 0, 0, 5, 0],\n",
    "        [0, 1, 0, 5, 9, 0, 0, 0, 0],\n",
    "        [8, 3, 0, 0, 0, 0, 0, 7, 5],\n",
    "        [1, 6, 9, 7, 5, 2, 4, 3, 0],\n",
    "        [0, 7, 0, 0, 8, 0, 0, 6, 0],\n",
    "        [0, 9, 1, 0, 6, 0, 8, 4, 0],\n",
    "        [7, 0, 8, 0, 3, 1, 0, 0, 6],\n",
    "        [6, 2, 0, 4, 7, 8, 0, 9, 0]]\n",
    "loc = (1,1)\n",
    "\n",
    "print(loc)\n",
    "a = np.array(grid)\n",
    "b = np.where(a == 0)\n",
    "\n",
    "print('b = ',b)\n",
    "print()\n",
    "print(b[0])\n",
    "print(b[1])\n",
    "print()\n",
    "row = list(b[0])\n",
    "col = list(b[1])\n",
    "print('0000')\n",
    "print((row[0],col[0]))\n",
    "print(a[row[5],col[5]])\n",
    "\n",
    "domains={}\n",
    "for i in range(9):\n",
    "    for j in range(9):\n",
    "        if a[i][j] == 0:\n",
    "            arr = {1, 2, 3, 4, 5, 6, 7, 8, 9}\n",
    "            for m in a[i,...]:\n",
    "                if m in arr:\n",
    "                    arr.remove(m)\n",
    "            for m in a[...,j]:\n",
    "                if m in arr:\n",
    "                    arr.remove(m)\n",
    "            for m in a[(i//3)*3:(i//3+1)*3,(j//3)*3:(j//3+1)*3].flatten():\n",
    "                if m in arr:\n",
    "                    arr.remove(m)\n",
    "            domains[(i, j)] = arr\n",
    "            \n",
    "print(domains)    \n",
    "    \n",
    "\n"
   ]
  },
  {
   "cell_type": "code",
   "execution_count": 135,
   "metadata": {},
   "outputs": [
    {
     "name": "stdout",
     "output_type": "stream",
     "text": [
      "[0 8 0 1 4 0 0 5 0]\n",
      "[5 8 1 3 6 7 9 0 2]\n",
      "<built-in method flatten of numpy.ndarray object at 0x7fba235d63a0>\n"
     ]
    }
   ],
   "source": [
    "\n",
    "print(a[1,...])\n",
    "print(a[...,1])\n",
    "print(a[(loc[0]//3)*3:(loc[0]//3+1)*3,(loc[1]//3)*3:(loc[1]//3+1)*3].flatten)"
   ]
  },
  {
   "cell_type": "code",
   "execution_count": 141,
   "metadata": {},
   "outputs": [
    {
     "ename": "NameError",
     "evalue": "name 'constrain' is not defined",
     "output_type": "error",
     "traceback": [
      "\u001b[0;31m---------------------------------------------------------------------------\u001b[0m",
      "\u001b[0;31mNameError\u001b[0m                                 Traceback (most recent call last)",
      "\u001b[0;32m<ipython-input-141-fee7b956cef8>\u001b[0m in \u001b[0;36m<module>\u001b[0;34m\u001b[0m\n\u001b[1;32m      3\u001b[0m             \u001b[0;32mfor\u001b[0m \u001b[0mm\u001b[0m \u001b[0;32min\u001b[0m \u001b[0mrange\u001b[0m\u001b[0;34m(\u001b[0m\u001b[0;36m9\u001b[0m\u001b[0;34m)\u001b[0m\u001b[0;34m:\u001b[0m\u001b[0;34m\u001b[0m\u001b[0;34m\u001b[0m\u001b[0m\n\u001b[1;32m      4\u001b[0m                 \u001b[0;32mif\u001b[0m \u001b[0mm\u001b[0m \u001b[0;34m!=\u001b[0m \u001b[0mi\u001b[0m \u001b[0;32mand\u001b[0m \u001b[0ma\u001b[0m\u001b[0;34m[\u001b[0m\u001b[0mi\u001b[0m\u001b[0;34m]\u001b[0m\u001b[0;34m[\u001b[0m\u001b[0mj\u001b[0m\u001b[0;34m]\u001b[0m \u001b[0;34m==\u001b[0m \u001b[0;36m0\u001b[0m\u001b[0;34m:\u001b[0m\u001b[0;34m\u001b[0m\u001b[0;34m\u001b[0m\u001b[0m\n\u001b[0;32m----> 5\u001b[0;31m                     \u001b[0mconstrain\u001b[0m\u001b[0;34m.\u001b[0m\u001b[0mappend\u001b[0m\u001b[0;34m(\u001b[0m\u001b[0mConstraint\u001b[0m\u001b[0;34m(\u001b[0m\u001b[0;34m[\u001b[0m\u001b[0;34m(\u001b[0m\u001b[0mi\u001b[0m\u001b[0;34m,\u001b[0m \u001b[0mj\u001b[0m\u001b[0;34m)\u001b[0m\u001b[0;34m,\u001b[0m \u001b[0;34m(\u001b[0m\u001b[0mm\u001b[0m\u001b[0;34m,\u001b[0m \u001b[0mj\u001b[0m\u001b[0;34m)\u001b[0m\u001b[0;34m]\u001b[0m\u001b[0;34m,\u001b[0m\u001b[0mnotequal\u001b[0m\u001b[0;34m)\u001b[0m\u001b[0;34m)\u001b[0m\u001b[0;34m\u001b[0m\u001b[0;34m\u001b[0m\u001b[0m\n\u001b[0m",
      "\u001b[0;31mNameError\u001b[0m: name 'constrain' is not defined"
     ]
    }
   ],
   "source": [
    "for i in range(9):\n",
    "        for j in range(9):\n",
    "            for m in range(9):\n",
    "                if m != i and a[i][j] == 0:\n",
    "                    constrain.append(Constraint([(i, j), (m, j)],notequal))"
   ]
  },
  {
   "cell_type": "code",
   "execution_count": 145,
   "metadata": {},
   "outputs": [
    {
     "name": "stdout",
     "output_type": "stream",
     "text": [
      "[notequal[(0, 0), (0, 1)], notequal[(0, 0), (0, 2)], notequal[(0, 0), (0, 3)], notequal[(0, 0), (0, 4)], notequal[(0, 0), (0, 5)], notequal[(0, 0), (0, 6)], notequal[(0, 0), (0, 7)], notequal[(0, 0), (0, 8)], notequal[(0, 0), (1, 1)], notequal[(0, 0), (1, 2)], notequal[(0, 0), (2, 1)], notequal[(0, 0), (2, 2)], notequal[(0, 1), (0, 0)], notequal[(0, 1), (0, 2)], notequal[(0, 1), (0, 3)], notequal[(0, 1), (0, 4)], notequal[(0, 1), (0, 5)], notequal[(0, 1), (0, 6)], notequal[(0, 1), (0, 7)], notequal[(0, 1), (0, 8)], notequal[(0, 1), (1, 0)], notequal[(0, 1), (1, 2)], notequal[(0, 1), (2, 0)], notequal[(0, 1), (2, 2)], notequal[(0, 2), (1, 2)], notequal[(0, 2), (2, 2)], notequal[(0, 2), (3, 2)], notequal[(0, 2), (4, 2)], notequal[(0, 2), (5, 2)], notequal[(0, 2), (6, 2)], notequal[(0, 2), (7, 2)], notequal[(0, 2), (8, 2)], notequal[(0, 2), (0, 0)], notequal[(0, 2), (0, 1)], notequal[(0, 2), (0, 3)], notequal[(0, 2), (0, 4)], notequal[(0, 2), (0, 5)], notequal[(0, 2), (0, 6)], notequal[(0, 2), (0, 7)], notequal[(0, 2), (0, 8)], notequal[(0, 2), (1, 0)], notequal[(0, 2), (1, 1)], notequal[(0, 2), (2, 0)], notequal[(0, 2), (2, 1)], notequal[(0, 3), (0, 0)], notequal[(0, 3), (0, 1)], notequal[(0, 3), (0, 2)], notequal[(0, 3), (0, 4)], notequal[(0, 3), (0, 5)], notequal[(0, 3), (0, 6)], notequal[(0, 3), (0, 7)], notequal[(0, 3), (0, 8)], notequal[(0, 3), (1, 4)], notequal[(0, 3), (1, 5)], notequal[(0, 3), (2, 4)], notequal[(0, 3), (2, 5)], notequal[(0, 4), (0, 0)], notequal[(0, 4), (0, 1)], notequal[(0, 4), (0, 2)], notequal[(0, 4), (0, 3)], notequal[(0, 4), (0, 5)], notequal[(0, 4), (0, 6)], notequal[(0, 4), (0, 7)], notequal[(0, 4), (0, 8)], notequal[(0, 4), (1, 3)], notequal[(0, 4), (1, 5)], notequal[(0, 4), (2, 3)], notequal[(0, 4), (2, 5)], notequal[(0, 5), (0, 0)], notequal[(0, 5), (0, 1)], notequal[(0, 5), (0, 2)], notequal[(0, 5), (0, 3)], notequal[(0, 5), (0, 4)], notequal[(0, 5), (0, 6)], notequal[(0, 5), (0, 7)], notequal[(0, 5), (0, 8)], notequal[(0, 5), (1, 3)], notequal[(0, 5), (1, 4)], notequal[(0, 5), (2, 3)], notequal[(0, 5), (2, 4)], notequal[(0, 6), (0, 0)], notequal[(0, 6), (0, 1)], notequal[(0, 6), (0, 2)], notequal[(0, 6), (0, 3)], notequal[(0, 6), (0, 4)], notequal[(0, 6), (0, 5)], notequal[(0, 6), (0, 7)], notequal[(0, 6), (0, 8)], notequal[(0, 6), (1, 7)], notequal[(0, 6), (1, 8)], notequal[(0, 6), (2, 7)], notequal[(0, 6), (2, 8)], notequal[(0, 7), (1, 7)], notequal[(0, 7), (2, 7)], notequal[(0, 7), (3, 7)], notequal[(0, 7), (4, 7)], notequal[(0, 7), (5, 7)], notequal[(0, 7), (6, 7)], notequal[(0, 7), (7, 7)], notequal[(0, 7), (8, 7)], notequal[(0, 7), (0, 0)], notequal[(0, 7), (0, 1)], notequal[(0, 7), (0, 2)], notequal[(0, 7), (0, 3)], notequal[(0, 7), (0, 4)], notequal[(0, 7), (0, 5)], notequal[(0, 7), (0, 6)], notequal[(0, 7), (0, 8)], notequal[(0, 7), (1, 6)], notequal[(0, 7), (1, 8)], notequal[(0, 7), (2, 6)], notequal[(0, 7), (2, 8)], notequal[(0, 8), (1, 8)], notequal[(0, 8), (2, 8)], notequal[(0, 8), (3, 8)], notequal[(0, 8), (4, 8)], notequal[(0, 8), (5, 8)], notequal[(0, 8), (6, 8)], notequal[(0, 8), (7, 8)], notequal[(0, 8), (8, 8)], notequal[(0, 8), (0, 0)], notequal[(0, 8), (0, 1)], notequal[(0, 8), (0, 2)], notequal[(0, 8), (0, 3)], notequal[(0, 8), (0, 4)], notequal[(0, 8), (0, 5)], notequal[(0, 8), (0, 6)], notequal[(0, 8), (0, 7)], notequal[(0, 8), (1, 6)], notequal[(0, 8), (1, 7)], notequal[(0, 8), (2, 6)], notequal[(0, 8), (2, 7)], notequal[(1, 0), (0, 0)], notequal[(1, 0), (2, 0)], notequal[(1, 0), (3, 0)], notequal[(1, 0), (4, 0)], notequal[(1, 0), (5, 0)], notequal[(1, 0), (6, 0)], notequal[(1, 0), (7, 0)], notequal[(1, 0), (8, 0)], notequal[(1, 0), (1, 1)], notequal[(1, 0), (1, 2)], notequal[(1, 0), (1, 3)], notequal[(1, 0), (1, 4)], notequal[(1, 0), (1, 5)], notequal[(1, 0), (1, 6)], notequal[(1, 0), (1, 7)], notequal[(1, 0), (1, 8)], notequal[(1, 0), (0, 1)], notequal[(1, 0), (0, 2)], notequal[(1, 0), (2, 1)], notequal[(1, 0), (2, 2)], notequal[(1, 1), (1, 0)], notequal[(1, 1), (1, 2)], notequal[(1, 1), (1, 3)], notequal[(1, 1), (1, 4)], notequal[(1, 1), (1, 5)], notequal[(1, 1), (1, 6)], notequal[(1, 1), (1, 7)], notequal[(1, 1), (1, 8)], notequal[(1, 1), (0, 0)], notequal[(1, 1), (0, 2)], notequal[(1, 1), (2, 0)], notequal[(1, 1), (2, 2)], notequal[(1, 2), (0, 2)], notequal[(1, 2), (2, 2)], notequal[(1, 2), (3, 2)], notequal[(1, 2), (4, 2)], notequal[(1, 2), (5, 2)], notequal[(1, 2), (6, 2)], notequal[(1, 2), (7, 2)], notequal[(1, 2), (8, 2)], notequal[(1, 2), (1, 0)], notequal[(1, 2), (1, 1)], notequal[(1, 2), (1, 3)], notequal[(1, 2), (1, 4)], notequal[(1, 2), (1, 5)], notequal[(1, 2), (1, 6)], notequal[(1, 2), (1, 7)], notequal[(1, 2), (1, 8)], notequal[(1, 2), (0, 0)], notequal[(1, 2), (0, 1)], notequal[(1, 2), (2, 0)], notequal[(1, 2), (2, 1)], notequal[(1, 3), (1, 0)], notequal[(1, 3), (1, 1)], notequal[(1, 3), (1, 2)], notequal[(1, 3), (1, 4)], notequal[(1, 3), (1, 5)], notequal[(1, 3), (1, 6)], notequal[(1, 3), (1, 7)], notequal[(1, 3), (1, 8)], notequal[(1, 3), (0, 4)], notequal[(1, 3), (0, 5)], notequal[(1, 3), (2, 4)], notequal[(1, 3), (2, 5)], notequal[(1, 4), (1, 0)], notequal[(1, 4), (1, 1)], notequal[(1, 4), (1, 2)], notequal[(1, 4), (1, 3)], notequal[(1, 4), (1, 5)], notequal[(1, 4), (1, 6)], notequal[(1, 4), (1, 7)], notequal[(1, 4), (1, 8)], notequal[(1, 4), (0, 3)], notequal[(1, 4), (0, 5)], notequal[(1, 4), (2, 3)], notequal[(1, 4), (2, 5)], notequal[(1, 5), (0, 5)], notequal[(1, 5), (2, 5)], notequal[(1, 5), (3, 5)], notequal[(1, 5), (4, 5)], notequal[(1, 5), (5, 5)], notequal[(1, 5), (6, 5)], notequal[(1, 5), (7, 5)], notequal[(1, 5), (8, 5)], notequal[(1, 5), (1, 0)], notequal[(1, 5), (1, 1)], notequal[(1, 5), (1, 2)], notequal[(1, 5), (1, 3)], notequal[(1, 5), (1, 4)], notequal[(1, 5), (1, 6)], notequal[(1, 5), (1, 7)], notequal[(1, 5), (1, 8)], notequal[(1, 5), (0, 3)], notequal[(1, 5), (0, 4)], notequal[(1, 5), (2, 3)], notequal[(1, 5), (2, 4)], notequal[(1, 6), (0, 6)], notequal[(1, 6), (2, 6)], notequal[(1, 6), (3, 6)], notequal[(1, 6), (4, 6)], notequal[(1, 6), (5, 6)], notequal[(1, 6), (6, 6)], notequal[(1, 6), (7, 6)], notequal[(1, 6), (8, 6)], notequal[(1, 6), (1, 0)], notequal[(1, 6), (1, 1)], notequal[(1, 6), (1, 2)], notequal[(1, 6), (1, 3)], notequal[(1, 6), (1, 4)], notequal[(1, 6), (1, 5)], notequal[(1, 6), (1, 7)], notequal[(1, 6), (1, 8)], notequal[(1, 6), (0, 7)], notequal[(1, 6), (0, 8)], notequal[(1, 6), (2, 7)], notequal[(1, 6), (2, 8)], notequal[(1, 7), (1, 0)], notequal[(1, 7), (1, 1)], notequal[(1, 7), (1, 2)], notequal[(1, 7), (1, 3)], notequal[(1, 7), (1, 4)], notequal[(1, 7), (1, 5)], notequal[(1, 7), (1, 6)], notequal[(1, 7), (1, 8)], notequal[(1, 7), (0, 6)], notequal[(1, 7), (0, 8)], notequal[(1, 7), (2, 6)], notequal[(1, 7), (2, 8)], notequal[(1, 8), (0, 8)], notequal[(1, 8), (2, 8)], notequal[(1, 8), (3, 8)], notequal[(1, 8), (4, 8)], notequal[(1, 8), (5, 8)], notequal[(1, 8), (6, 8)], notequal[(1, 8), (7, 8)], notequal[(1, 8), (8, 8)], notequal[(1, 8), (1, 0)], notequal[(1, 8), (1, 1)], notequal[(1, 8), (1, 2)], notequal[(1, 8), (1, 3)], notequal[(1, 8), (1, 4)], notequal[(1, 8), (1, 5)], notequal[(1, 8), (1, 6)], notequal[(1, 8), (1, 7)], notequal[(1, 8), (0, 6)], notequal[(1, 8), (0, 7)], notequal[(1, 8), (2, 6)], notequal[(1, 8), (2, 7)], notequal[(2, 0), (0, 0)], notequal[(2, 0), (1, 0)], notequal[(2, 0), (3, 0)], notequal[(2, 0), (4, 0)], notequal[(2, 0), (5, 0)], notequal[(2, 0), (6, 0)], notequal[(2, 0), (7, 0)], notequal[(2, 0), (8, 0)], notequal[(2, 0), (2, 1)], notequal[(2, 0), (2, 2)], notequal[(2, 0), (2, 3)], notequal[(2, 0), (2, 4)], notequal[(2, 0), (2, 5)], notequal[(2, 0), (2, 6)], notequal[(2, 0), (2, 7)], notequal[(2, 0), (2, 8)], notequal[(2, 0), (0, 1)], notequal[(2, 0), (0, 2)], notequal[(2, 0), (1, 1)], notequal[(2, 0), (1, 2)], notequal[(2, 1), (2, 0)], notequal[(2, 1), (2, 2)], notequal[(2, 1), (2, 3)], notequal[(2, 1), (2, 4)], notequal[(2, 1), (2, 5)], notequal[(2, 1), (2, 6)], notequal[(2, 1), (2, 7)], notequal[(2, 1), (2, 8)], notequal[(2, 1), (0, 0)], notequal[(2, 1), (0, 2)], notequal[(2, 1), (1, 0)], notequal[(2, 1), (1, 2)], notequal[(2, 2), (0, 2)], notequal[(2, 2), (1, 2)], notequal[(2, 2), (3, 2)], notequal[(2, 2), (4, 2)], notequal[(2, 2), (5, 2)], notequal[(2, 2), (6, 2)], notequal[(2, 2), (7, 2)], notequal[(2, 2), (8, 2)], notequal[(2, 2), (2, 0)], notequal[(2, 2), (2, 1)], notequal[(2, 2), (2, 3)], notequal[(2, 2), (2, 4)], notequal[(2, 2), (2, 5)], notequal[(2, 2), (2, 6)], notequal[(2, 2), (2, 7)], notequal[(2, 2), (2, 8)], notequal[(2, 2), (0, 0)], notequal[(2, 2), (0, 1)], notequal[(2, 2), (1, 0)], notequal[(2, 2), (1, 1)], notequal[(2, 3), (2, 0)], notequal[(2, 3), (2, 1)], notequal[(2, 3), (2, 2)], notequal[(2, 3), (2, 4)], notequal[(2, 3), (2, 5)], notequal[(2, 3), (2, 6)], notequal[(2, 3), (2, 7)], notequal[(2, 3), (2, 8)], notequal[(2, 3), (0, 4)], notequal[(2, 3), (0, 5)], notequal[(2, 3), (1, 4)], notequal[(2, 3), (1, 5)], notequal[(2, 4), (2, 0)], notequal[(2, 4), (2, 1)], notequal[(2, 4), (2, 2)], notequal[(2, 4), (2, 3)], notequal[(2, 4), (2, 5)], notequal[(2, 4), (2, 6)], notequal[(2, 4), (2, 7)], notequal[(2, 4), (2, 8)], notequal[(2, 4), (0, 3)], notequal[(2, 4), (0, 5)], notequal[(2, 4), (1, 3)], notequal[(2, 4), (1, 5)], notequal[(2, 5), (0, 5)], notequal[(2, 5), (1, 5)], notequal[(2, 5), (3, 5)], notequal[(2, 5), (4, 5)], notequal[(2, 5), (5, 5)], notequal[(2, 5), (6, 5)], notequal[(2, 5), (7, 5)], notequal[(2, 5), (8, 5)], notequal[(2, 5), (2, 0)], notequal[(2, 5), (2, 1)], notequal[(2, 5), (2, 2)], notequal[(2, 5), (2, 3)], notequal[(2, 5), (2, 4)], notequal[(2, 5), (2, 6)], notequal[(2, 5), (2, 7)], notequal[(2, 5), (2, 8)], notequal[(2, 5), (0, 3)], notequal[(2, 5), (0, 4)], notequal[(2, 5), (1, 3)], notequal[(2, 5), (1, 4)], notequal[(2, 6), (0, 6)], notequal[(2, 6), (1, 6)], notequal[(2, 6), (3, 6)], notequal[(2, 6), (4, 6)], notequal[(2, 6), (5, 6)], notequal[(2, 6), (6, 6)], notequal[(2, 6), (7, 6)], notequal[(2, 6), (8, 6)], notequal[(2, 6), (2, 0)], notequal[(2, 6), (2, 1)], notequal[(2, 6), (2, 2)], notequal[(2, 6), (2, 3)], notequal[(2, 6), (2, 4)], notequal[(2, 6), (2, 5)], notequal[(2, 6), (2, 7)], notequal[(2, 6), (2, 8)], notequal[(2, 6), (0, 7)], notequal[(2, 6), (0, 8)], notequal[(2, 6), (1, 7)], notequal[(2, 6), (1, 8)], notequal[(2, 7), (0, 7)], notequal[(2, 7), (1, 7)], notequal[(2, 7), (3, 7)], notequal[(2, 7), (4, 7)], notequal[(2, 7), (5, 7)], notequal[(2, 7), (6, 7)], notequal[(2, 7), (7, 7)], notequal[(2, 7), (8, 7)], notequal[(2, 7), (2, 0)], notequal[(2, 7), (2, 1)], notequal[(2, 7), (2, 2)], notequal[(2, 7), (2, 3)], notequal[(2, 7), (2, 4)], notequal[(2, 7), (2, 5)], notequal[(2, 7), (2, 6)], notequal[(2, 7), (2, 8)], notequal[(2, 7), (0, 6)], notequal[(2, 7), (0, 8)], notequal[(2, 7), (1, 6)], notequal[(2, 7), (1, 8)], notequal[(2, 8), (0, 8)], notequal[(2, 8), (1, 8)], notequal[(2, 8), (3, 8)], notequal[(2, 8), (4, 8)], notequal[(2, 8), (5, 8)], notequal[(2, 8), (6, 8)], notequal[(2, 8), (7, 8)], notequal[(2, 8), (8, 8)], notequal[(2, 8), (2, 0)], notequal[(2, 8), (2, 1)], notequal[(2, 8), (2, 2)], notequal[(2, 8), (2, 3)], notequal[(2, 8), (2, 4)], notequal[(2, 8), (2, 5)], notequal[(2, 8), (2, 6)], notequal[(2, 8), (2, 7)], notequal[(2, 8), (0, 6)], notequal[(2, 8), (0, 7)], notequal[(2, 8), (1, 6)], notequal[(2, 8), (1, 7)], notequal[(3, 0), (3, 1)], notequal[(3, 0), (3, 2)], notequal[(3, 0), (3, 3)], notequal[(3, 0), (3, 4)], notequal[(3, 0), (3, 5)], notequal[(3, 0), (3, 6)], notequal[(3, 0), (3, 7)], notequal[(3, 0), (3, 8)], notequal[(3, 0), (4, 1)], notequal[(3, 0), (4, 2)], notequal[(3, 0), (5, 1)], notequal[(3, 0), (5, 2)], notequal[(3, 1), (3, 0)], notequal[(3, 1), (3, 2)], notequal[(3, 1), (3, 3)], notequal[(3, 1), (3, 4)], notequal[(3, 1), (3, 5)], notequal[(3, 1), (3, 6)], notequal[(3, 1), (3, 7)], notequal[(3, 1), (3, 8)], notequal[(3, 1), (4, 0)], notequal[(3, 1), (4, 2)], notequal[(3, 1), (5, 0)], notequal[(3, 1), (5, 2)], notequal[(3, 2), (0, 2)], notequal[(3, 2), (1, 2)], notequal[(3, 2), (2, 2)], notequal[(3, 2), (4, 2)], notequal[(3, 2), (5, 2)], notequal[(3, 2), (6, 2)], notequal[(3, 2), (7, 2)], notequal[(3, 2), (8, 2)], notequal[(3, 2), (3, 0)], notequal[(3, 2), (3, 1)], notequal[(3, 2), (3, 3)], notequal[(3, 2), (3, 4)], notequal[(3, 2), (3, 5)], notequal[(3, 2), (3, 6)], notequal[(3, 2), (3, 7)], notequal[(3, 2), (3, 8)], notequal[(3, 2), (4, 0)], notequal[(3, 2), (4, 1)], notequal[(3, 2), (5, 0)], notequal[(3, 2), (5, 1)], notequal[(3, 3), (0, 3)], notequal[(3, 3), (1, 3)], notequal[(3, 3), (2, 3)], notequal[(3, 3), (4, 3)], notequal[(3, 3), (5, 3)], notequal[(3, 3), (6, 3)], notequal[(3, 3), (7, 3)], notequal[(3, 3), (8, 3)], notequal[(3, 3), (3, 0)], notequal[(3, 3), (3, 1)], notequal[(3, 3), (3, 2)], notequal[(3, 3), (3, 4)], notequal[(3, 3), (3, 5)], notequal[(3, 3), (3, 6)], notequal[(3, 3), (3, 7)], notequal[(3, 3), (3, 8)], notequal[(3, 3), (4, 4)], notequal[(3, 3), (4, 5)], notequal[(3, 3), (5, 4)], notequal[(3, 3), (5, 5)], notequal[(3, 4), (0, 4)], notequal[(3, 4), (1, 4)], notequal[(3, 4), (2, 4)], notequal[(3, 4), (4, 4)], notequal[(3, 4), (5, 4)], notequal[(3, 4), (6, 4)], notequal[(3, 4), (7, 4)], notequal[(3, 4), (8, 4)], notequal[(3, 4), (3, 0)], notequal[(3, 4), (3, 1)], notequal[(3, 4), (3, 2)], notequal[(3, 4), (3, 3)], notequal[(3, 4), (3, 5)], notequal[(3, 4), (3, 6)], notequal[(3, 4), (3, 7)], notequal[(3, 4), (3, 8)], notequal[(3, 4), (4, 3)], notequal[(3, 4), (4, 5)], notequal[(3, 4), (5, 3)], notequal[(3, 4), (5, 5)], notequal[(3, 5), (0, 5)], notequal[(3, 5), (1, 5)], notequal[(3, 5), (2, 5)], notequal[(3, 5), (4, 5)], notequal[(3, 5), (5, 5)], notequal[(3, 5), (6, 5)], notequal[(3, 5), (7, 5)], notequal[(3, 5), (8, 5)], notequal[(3, 5), (3, 0)], notequal[(3, 5), (3, 1)], notequal[(3, 5), (3, 2)], notequal[(3, 5), (3, 3)], notequal[(3, 5), (3, 4)], notequal[(3, 5), (3, 6)], notequal[(3, 5), (3, 7)], notequal[(3, 5), (3, 8)], notequal[(3, 5), (4, 3)], notequal[(3, 5), (4, 4)], notequal[(3, 5), (5, 3)], notequal[(3, 5), (5, 4)], notequal[(3, 6), (0, 6)], notequal[(3, 6), (1, 6)], notequal[(3, 6), (2, 6)], notequal[(3, 6), (4, 6)], notequal[(3, 6), (5, 6)], notequal[(3, 6), (6, 6)], notequal[(3, 6), (7, 6)], notequal[(3, 6), (8, 6)], notequal[(3, 6), (3, 0)], notequal[(3, 6), (3, 1)], notequal[(3, 6), (3, 2)], notequal[(3, 6), (3, 3)], notequal[(3, 6), (3, 4)], notequal[(3, 6), (3, 5)], notequal[(3, 6), (3, 7)], notequal[(3, 6), (3, 8)], notequal[(3, 6), (4, 7)], notequal[(3, 6), (4, 8)], notequal[(3, 6), (5, 7)], notequal[(3, 6), (5, 8)], notequal[(3, 7), (3, 0)], notequal[(3, 7), (3, 1)], notequal[(3, 7), (3, 2)], notequal[(3, 7), (3, 3)], notequal[(3, 7), (3, 4)], notequal[(3, 7), (3, 5)], notequal[(3, 7), (3, 6)], notequal[(3, 7), (3, 8)], notequal[(3, 7), (4, 6)], notequal[(3, 7), (4, 8)], notequal[(3, 7), (5, 6)], notequal[(3, 7), (5, 8)], notequal[(3, 8), (3, 0)], notequal[(3, 8), (3, 1)], notequal[(3, 8), (3, 2)], notequal[(3, 8), (3, 3)], notequal[(3, 8), (3, 4)], notequal[(3, 8), (3, 5)], notequal[(3, 8), (3, 6)], notequal[(3, 8), (3, 7)], notequal[(3, 8), (4, 6)], notequal[(3, 8), (4, 7)], notequal[(3, 8), (5, 6)], notequal[(3, 8), (5, 7)], notequal[(4, 0), (4, 1)], notequal[(4, 0), (4, 2)], notequal[(4, 0), (4, 3)], notequal[(4, 0), (4, 4)], notequal[(4, 0), (4, 5)], notequal[(4, 0), (4, 6)], notequal[(4, 0), (4, 7)], notequal[(4, 0), (4, 8)], notequal[(4, 0), (3, 1)], notequal[(4, 0), (3, 2)], notequal[(4, 0), (5, 1)], notequal[(4, 0), (5, 2)], notequal[(4, 1), (4, 0)], notequal[(4, 1), (4, 2)], notequal[(4, 1), (4, 3)], notequal[(4, 1), (4, 4)], notequal[(4, 1), (4, 5)], notequal[(4, 1), (4, 6)], notequal[(4, 1), (4, 7)], notequal[(4, 1), (4, 8)], notequal[(4, 1), (3, 0)], notequal[(4, 1), (3, 2)], notequal[(4, 1), (5, 0)], notequal[(4, 1), (5, 2)], notequal[(4, 2), (4, 0)], notequal[(4, 2), (4, 1)], notequal[(4, 2), (4, 3)], notequal[(4, 2), (4, 4)], notequal[(4, 2), (4, 5)], notequal[(4, 2), (4, 6)], notequal[(4, 2), (4, 7)], notequal[(4, 2), (4, 8)], notequal[(4, 2), (3, 0)], notequal[(4, 2), (3, 1)], notequal[(4, 2), (5, 0)], notequal[(4, 2), (5, 1)], notequal[(4, 3), (4, 0)], notequal[(4, 3), (4, 1)], notequal[(4, 3), (4, 2)], notequal[(4, 3), (4, 4)], notequal[(4, 3), (4, 5)], notequal[(4, 3), (4, 6)], notequal[(4, 3), (4, 7)], notequal[(4, 3), (4, 8)], notequal[(4, 3), (3, 4)], notequal[(4, 3), (3, 5)], notequal[(4, 3), (5, 4)], notequal[(4, 3), (5, 5)], notequal[(4, 4), (4, 0)], notequal[(4, 4), (4, 1)], notequal[(4, 4), (4, 2)], notequal[(4, 4), (4, 3)], notequal[(4, 4), (4, 5)], notequal[(4, 4), (4, 6)], notequal[(4, 4), (4, 7)], notequal[(4, 4), (4, 8)], notequal[(4, 4), (3, 3)], notequal[(4, 4), (3, 5)], notequal[(4, 4), (5, 3)], notequal[(4, 4), (5, 5)], notequal[(4, 5), (4, 0)], notequal[(4, 5), (4, 1)], notequal[(4, 5), (4, 2)], notequal[(4, 5), (4, 3)], notequal[(4, 5), (4, 4)], notequal[(4, 5), (4, 6)], notequal[(4, 5), (4, 7)], notequal[(4, 5), (4, 8)], notequal[(4, 5), (3, 3)], notequal[(4, 5), (3, 4)], notequal[(4, 5), (5, 3)], notequal[(4, 5), (5, 4)], notequal[(4, 6), (4, 0)], notequal[(4, 6), (4, 1)], notequal[(4, 6), (4, 2)], notequal[(4, 6), (4, 3)], notequal[(4, 6), (4, 4)], notequal[(4, 6), (4, 5)], notequal[(4, 6), (4, 7)], notequal[(4, 6), (4, 8)], notequal[(4, 6), (3, 7)], notequal[(4, 6), (3, 8)], notequal[(4, 6), (5, 7)], notequal[(4, 6), (5, 8)], notequal[(4, 7), (4, 0)], notequal[(4, 7), (4, 1)], notequal[(4, 7), (4, 2)], notequal[(4, 7), (4, 3)], notequal[(4, 7), (4, 4)], notequal[(4, 7), (4, 5)], notequal[(4, 7), (4, 6)], notequal[(4, 7), (4, 8)], notequal[(4, 7), (3, 6)], notequal[(4, 7), (3, 8)], notequal[(4, 7), (5, 6)], notequal[(4, 7), (5, 8)], notequal[(4, 8), (0, 8)], notequal[(4, 8), (1, 8)], notequal[(4, 8), (2, 8)], notequal[(4, 8), (3, 8)], notequal[(4, 8), (5, 8)], notequal[(4, 8), (6, 8)], notequal[(4, 8), (7, 8)], notequal[(4, 8), (8, 8)], notequal[(4, 8), (4, 0)], notequal[(4, 8), (4, 1)], notequal[(4, 8), (4, 2)], notequal[(4, 8), (4, 3)], notequal[(4, 8), (4, 4)], notequal[(4, 8), (4, 5)], notequal[(4, 8), (4, 6)], notequal[(4, 8), (4, 7)], notequal[(4, 8), (3, 6)], notequal[(4, 8), (3, 7)], notequal[(4, 8), (5, 6)], notequal[(4, 8), (5, 7)], notequal[(5, 0), (0, 0)], notequal[(5, 0), (1, 0)], notequal[(5, 0), (2, 0)], notequal[(5, 0), (3, 0)], notequal[(5, 0), (4, 0)], notequal[(5, 0), (6, 0)], notequal[(5, 0), (7, 0)], notequal[(5, 0), (8, 0)], notequal[(5, 0), (5, 1)], notequal[(5, 0), (5, 2)], notequal[(5, 0), (5, 3)], notequal[(5, 0), (5, 4)], notequal[(5, 0), (5, 5)], notequal[(5, 0), (5, 6)], notequal[(5, 0), (5, 7)], notequal[(5, 0), (5, 8)], notequal[(5, 0), (3, 1)], notequal[(5, 0), (3, 2)], notequal[(5, 0), (4, 1)], notequal[(5, 0), (4, 2)], notequal[(5, 1), (5, 0)], notequal[(5, 1), (5, 2)], notequal[(5, 1), (5, 3)], notequal[(5, 1), (5, 4)], notequal[(5, 1), (5, 5)], notequal[(5, 1), (5, 6)], notequal[(5, 1), (5, 7)], notequal[(5, 1), (5, 8)], notequal[(5, 1), (3, 0)], notequal[(5, 1), (3, 2)], notequal[(5, 1), (4, 0)], notequal[(5, 1), (4, 2)], notequal[(5, 2), (0, 2)], notequal[(5, 2), (1, 2)], notequal[(5, 2), (2, 2)], notequal[(5, 2), (3, 2)], notequal[(5, 2), (4, 2)], notequal[(5, 2), (6, 2)], notequal[(5, 2), (7, 2)], notequal[(5, 2), (8, 2)], notequal[(5, 2), (5, 0)], notequal[(5, 2), (5, 1)], notequal[(5, 2), (5, 3)], notequal[(5, 2), (5, 4)], notequal[(5, 2), (5, 5)], notequal[(5, 2), (5, 6)], notequal[(5, 2), (5, 7)], notequal[(5, 2), (5, 8)], notequal[(5, 2), (3, 0)], notequal[(5, 2), (3, 1)], notequal[(5, 2), (4, 0)], notequal[(5, 2), (4, 1)], notequal[(5, 3), (0, 3)], notequal[(5, 3), (1, 3)], notequal[(5, 3), (2, 3)], notequal[(5, 3), (3, 3)], notequal[(5, 3), (4, 3)], notequal[(5, 3), (6, 3)], notequal[(5, 3), (7, 3)], notequal[(5, 3), (8, 3)], notequal[(5, 3), (5, 0)], notequal[(5, 3), (5, 1)], notequal[(5, 3), (5, 2)], notequal[(5, 3), (5, 4)], notequal[(5, 3), (5, 5)], notequal[(5, 3), (5, 6)], notequal[(5, 3), (5, 7)], notequal[(5, 3), (5, 8)], notequal[(5, 3), (3, 4)], notequal[(5, 3), (3, 5)], notequal[(5, 3), (4, 4)], notequal[(5, 3), (4, 5)], notequal[(5, 4), (5, 0)], notequal[(5, 4), (5, 1)], notequal[(5, 4), (5, 2)], notequal[(5, 4), (5, 3)], notequal[(5, 4), (5, 5)], notequal[(5, 4), (5, 6)], notequal[(5, 4), (5, 7)], notequal[(5, 4), (5, 8)], notequal[(5, 4), (3, 3)], notequal[(5, 4), (3, 5)], notequal[(5, 4), (4, 3)], notequal[(5, 4), (4, 5)], notequal[(5, 5), (0, 5)], notequal[(5, 5), (1, 5)], notequal[(5, 5), (2, 5)], notequal[(5, 5), (3, 5)], notequal[(5, 5), (4, 5)], notequal[(5, 5), (6, 5)], notequal[(5, 5), (7, 5)], notequal[(5, 5), (8, 5)], notequal[(5, 5), (5, 0)], notequal[(5, 5), (5, 1)], notequal[(5, 5), (5, 2)], notequal[(5, 5), (5, 3)], notequal[(5, 5), (5, 4)], notequal[(5, 5), (5, 6)], notequal[(5, 5), (5, 7)], notequal[(5, 5), (5, 8)], notequal[(5, 5), (3, 3)], notequal[(5, 5), (3, 4)], notequal[(5, 5), (4, 3)], notequal[(5, 5), (4, 4)], notequal[(5, 6), (0, 6)], notequal[(5, 6), (1, 6)], notequal[(5, 6), (2, 6)], notequal[(5, 6), (3, 6)], notequal[(5, 6), (4, 6)], notequal[(5, 6), (6, 6)], notequal[(5, 6), (7, 6)], notequal[(5, 6), (8, 6)], notequal[(5, 6), (5, 0)], notequal[(5, 6), (5, 1)], notequal[(5, 6), (5, 2)], notequal[(5, 6), (5, 3)], notequal[(5, 6), (5, 4)], notequal[(5, 6), (5, 5)], notequal[(5, 6), (5, 7)], notequal[(5, 6), (5, 8)], notequal[(5, 6), (3, 7)], notequal[(5, 6), (3, 8)], notequal[(5, 6), (4, 7)], notequal[(5, 6), (4, 8)], notequal[(5, 7), (5, 0)], notequal[(5, 7), (5, 1)], notequal[(5, 7), (5, 2)], notequal[(5, 7), (5, 3)], notequal[(5, 7), (5, 4)], notequal[(5, 7), (5, 5)], notequal[(5, 7), (5, 6)], notequal[(5, 7), (5, 8)], notequal[(5, 7), (3, 6)], notequal[(5, 7), (3, 8)], notequal[(5, 7), (4, 6)], notequal[(5, 7), (4, 8)], notequal[(5, 8), (0, 8)], notequal[(5, 8), (1, 8)], notequal[(5, 8), (2, 8)], notequal[(5, 8), (3, 8)], notequal[(5, 8), (4, 8)], notequal[(5, 8), (6, 8)], notequal[(5, 8), (7, 8)], notequal[(5, 8), (8, 8)], notequal[(5, 8), (5, 0)], notequal[(5, 8), (5, 1)], notequal[(5, 8), (5, 2)], notequal[(5, 8), (5, 3)], notequal[(5, 8), (5, 4)], notequal[(5, 8), (5, 5)], notequal[(5, 8), (5, 6)], notequal[(5, 8), (5, 7)], notequal[(5, 8), (3, 6)], notequal[(5, 8), (3, 7)], notequal[(5, 8), (4, 6)], notequal[(5, 8), (4, 7)], notequal[(6, 0), (0, 0)], notequal[(6, 0), (1, 0)], notequal[(6, 0), (2, 0)], notequal[(6, 0), (3, 0)], notequal[(6, 0), (4, 0)], notequal[(6, 0), (5, 0)], notequal[(6, 0), (7, 0)], notequal[(6, 0), (8, 0)], notequal[(6, 0), (6, 1)], notequal[(6, 0), (6, 2)], notequal[(6, 0), (6, 3)], notequal[(6, 0), (6, 4)], notequal[(6, 0), (6, 5)], notequal[(6, 0), (6, 6)], notequal[(6, 0), (6, 7)], notequal[(6, 0), (6, 8)], notequal[(6, 0), (7, 1)], notequal[(6, 0), (7, 2)], notequal[(6, 0), (8, 1)], notequal[(6, 0), (8, 2)], notequal[(6, 1), (6, 0)], notequal[(6, 1), (6, 2)], notequal[(6, 1), (6, 3)], notequal[(6, 1), (6, 4)], notequal[(6, 1), (6, 5)], notequal[(6, 1), (6, 6)], notequal[(6, 1), (6, 7)], notequal[(6, 1), (6, 8)], notequal[(6, 1), (7, 0)], notequal[(6, 1), (7, 2)], notequal[(6, 1), (8, 0)], notequal[(6, 1), (8, 2)], notequal[(6, 2), (6, 0)], notequal[(6, 2), (6, 1)], notequal[(6, 2), (6, 3)], notequal[(6, 2), (6, 4)], notequal[(6, 2), (6, 5)], notequal[(6, 2), (6, 6)], notequal[(6, 2), (6, 7)], notequal[(6, 2), (6, 8)], notequal[(6, 2), (7, 0)], notequal[(6, 2), (7, 1)], notequal[(6, 2), (8, 0)], notequal[(6, 2), (8, 1)], notequal[(6, 3), (0, 3)], notequal[(6, 3), (1, 3)], notequal[(6, 3), (2, 3)], notequal[(6, 3), (3, 3)], notequal[(6, 3), (4, 3)], notequal[(6, 3), (5, 3)], notequal[(6, 3), (7, 3)], notequal[(6, 3), (8, 3)], notequal[(6, 3), (6, 0)], notequal[(6, 3), (6, 1)], notequal[(6, 3), (6, 2)], notequal[(6, 3), (6, 4)], notequal[(6, 3), (6, 5)], notequal[(6, 3), (6, 6)], notequal[(6, 3), (6, 7)], notequal[(6, 3), (6, 8)], notequal[(6, 3), (7, 4)], notequal[(6, 3), (7, 5)], notequal[(6, 3), (8, 4)], notequal[(6, 3), (8, 5)], notequal[(6, 4), (6, 0)], notequal[(6, 4), (6, 1)], notequal[(6, 4), (6, 2)], notequal[(6, 4), (6, 3)], notequal[(6, 4), (6, 5)], notequal[(6, 4), (6, 6)], notequal[(6, 4), (6, 7)], notequal[(6, 4), (6, 8)], notequal[(6, 4), (7, 3)], notequal[(6, 4), (7, 5)], notequal[(6, 4), (8, 3)], notequal[(6, 4), (8, 5)], notequal[(6, 5), (0, 5)], notequal[(6, 5), (1, 5)], notequal[(6, 5), (2, 5)], notequal[(6, 5), (3, 5)], notequal[(6, 5), (4, 5)], notequal[(6, 5), (5, 5)], notequal[(6, 5), (7, 5)], notequal[(6, 5), (8, 5)], notequal[(6, 5), (6, 0)], notequal[(6, 5), (6, 1)], notequal[(6, 5), (6, 2)], notequal[(6, 5), (6, 3)], notequal[(6, 5), (6, 4)], notequal[(6, 5), (6, 6)], notequal[(6, 5), (6, 7)], notequal[(6, 5), (6, 8)], notequal[(6, 5), (7, 3)], notequal[(6, 5), (7, 4)], notequal[(6, 5), (8, 3)], notequal[(6, 5), (8, 4)], notequal[(6, 6), (6, 0)], notequal[(6, 6), (6, 1)], notequal[(6, 6), (6, 2)], notequal[(6, 6), (6, 3)], notequal[(6, 6), (6, 4)], notequal[(6, 6), (6, 5)], notequal[(6, 6), (6, 7)], notequal[(6, 6), (6, 8)], notequal[(6, 6), (7, 7)], notequal[(6, 6), (7, 8)], notequal[(6, 6), (8, 7)], notequal[(6, 6), (8, 8)], notequal[(6, 7), (6, 0)], notequal[(6, 7), (6, 1)], notequal[(6, 7), (6, 2)], notequal[(6, 7), (6, 3)], notequal[(6, 7), (6, 4)], notequal[(6, 7), (6, 5)], notequal[(6, 7), (6, 6)], notequal[(6, 7), (6, 8)], notequal[(6, 7), (7, 6)], notequal[(6, 7), (7, 8)], notequal[(6, 7), (8, 6)], notequal[(6, 7), (8, 8)], notequal[(6, 8), (0, 8)], notequal[(6, 8), (1, 8)], notequal[(6, 8), (2, 8)], notequal[(6, 8), (3, 8)], notequal[(6, 8), (4, 8)], notequal[(6, 8), (5, 8)], notequal[(6, 8), (7, 8)], notequal[(6, 8), (8, 8)], notequal[(6, 8), (6, 0)], notequal[(6, 8), (6, 1)], notequal[(6, 8), (6, 2)], notequal[(6, 8), (6, 3)], notequal[(6, 8), (6, 4)], notequal[(6, 8), (6, 5)], notequal[(6, 8), (6, 6)], notequal[(6, 8), (6, 7)], notequal[(6, 8), (7, 6)], notequal[(6, 8), (7, 7)], notequal[(6, 8), (8, 6)], notequal[(6, 8), (8, 7)], notequal[(7, 0), (7, 1)], notequal[(7, 0), (7, 2)], notequal[(7, 0), (7, 3)], notequal[(7, 0), (7, 4)], notequal[(7, 0), (7, 5)], notequal[(7, 0), (7, 6)], notequal[(7, 0), (7, 7)], notequal[(7, 0), (7, 8)], notequal[(7, 0), (6, 1)], notequal[(7, 0), (6, 2)], notequal[(7, 0), (8, 1)], notequal[(7, 0), (8, 2)], notequal[(7, 1), (0, 1)], notequal[(7, 1), (1, 1)], notequal[(7, 1), (2, 1)], notequal[(7, 1), (3, 1)], notequal[(7, 1), (4, 1)], notequal[(7, 1), (5, 1)], notequal[(7, 1), (6, 1)], notequal[(7, 1), (8, 1)], notequal[(7, 1), (7, 0)], notequal[(7, 1), (7, 2)], notequal[(7, 1), (7, 3)], notequal[(7, 1), (7, 4)], notequal[(7, 1), (7, 5)], notequal[(7, 1), (7, 6)], notequal[(7, 1), (7, 7)], notequal[(7, 1), (7, 8)], notequal[(7, 1), (6, 0)], notequal[(7, 1), (6, 2)], notequal[(7, 1), (8, 0)], notequal[(7, 1), (8, 2)], notequal[(7, 2), (7, 0)], notequal[(7, 2), (7, 1)], notequal[(7, 2), (7, 3)], notequal[(7, 2), (7, 4)], notequal[(7, 2), (7, 5)], notequal[(7, 2), (7, 6)], notequal[(7, 2), (7, 7)], notequal[(7, 2), (7, 8)], notequal[(7, 2), (6, 0)], notequal[(7, 2), (6, 1)], notequal[(7, 2), (8, 0)], notequal[(7, 2), (8, 1)], notequal[(7, 3), (0, 3)], notequal[(7, 3), (1, 3)], notequal[(7, 3), (2, 3)], notequal[(7, 3), (3, 3)], notequal[(7, 3), (4, 3)], notequal[(7, 3), (5, 3)], notequal[(7, 3), (6, 3)], notequal[(7, 3), (8, 3)], notequal[(7, 3), (7, 0)], notequal[(7, 3), (7, 1)], notequal[(7, 3), (7, 2)], notequal[(7, 3), (7, 4)], notequal[(7, 3), (7, 5)], notequal[(7, 3), (7, 6)], notequal[(7, 3), (7, 7)], notequal[(7, 3), (7, 8)], notequal[(7, 3), (6, 4)], notequal[(7, 3), (6, 5)], notequal[(7, 3), (8, 4)], notequal[(7, 3), (8, 5)], notequal[(7, 4), (7, 0)], notequal[(7, 4), (7, 1)], notequal[(7, 4), (7, 2)], notequal[(7, 4), (7, 3)], notequal[(7, 4), (7, 5)], notequal[(7, 4), (7, 6)], notequal[(7, 4), (7, 7)], notequal[(7, 4), (7, 8)], notequal[(7, 4), (6, 3)], notequal[(7, 4), (6, 5)], notequal[(7, 4), (8, 3)], notequal[(7, 4), (8, 5)], notequal[(7, 5), (7, 0)], notequal[(7, 5), (7, 1)], notequal[(7, 5), (7, 2)], notequal[(7, 5), (7, 3)], notequal[(7, 5), (7, 4)], notequal[(7, 5), (7, 6)], notequal[(7, 5), (7, 7)], notequal[(7, 5), (7, 8)], notequal[(7, 5), (6, 3)], notequal[(7, 5), (6, 4)], notequal[(7, 5), (8, 3)], notequal[(7, 5), (8, 4)], notequal[(7, 6), (0, 6)], notequal[(7, 6), (1, 6)], notequal[(7, 6), (2, 6)], notequal[(7, 6), (3, 6)], notequal[(7, 6), (4, 6)], notequal[(7, 6), (5, 6)], notequal[(7, 6), (6, 6)], notequal[(7, 6), (8, 6)], notequal[(7, 6), (7, 0)], notequal[(7, 6), (7, 1)], notequal[(7, 6), (7, 2)], notequal[(7, 6), (7, 3)], notequal[(7, 6), (7, 4)], notequal[(7, 6), (7, 5)], notequal[(7, 6), (7, 7)], notequal[(7, 6), (7, 8)], notequal[(7, 6), (6, 7)], notequal[(7, 6), (6, 8)], notequal[(7, 6), (8, 7)], notequal[(7, 6), (8, 8)], notequal[(7, 7), (0, 7)], notequal[(7, 7), (1, 7)], notequal[(7, 7), (2, 7)], notequal[(7, 7), (3, 7)], notequal[(7, 7), (4, 7)], notequal[(7, 7), (5, 7)], notequal[(7, 7), (6, 7)], notequal[(7, 7), (8, 7)], notequal[(7, 7), (7, 0)], notequal[(7, 7), (7, 1)], notequal[(7, 7), (7, 2)], notequal[(7, 7), (7, 3)], notequal[(7, 7), (7, 4)], notequal[(7, 7), (7, 5)], notequal[(7, 7), (7, 6)], notequal[(7, 7), (7, 8)], notequal[(7, 7), (6, 6)], notequal[(7, 7), (6, 8)], notequal[(7, 7), (8, 6)], notequal[(7, 7), (8, 8)], notequal[(7, 8), (7, 0)], notequal[(7, 8), (7, 1)], notequal[(7, 8), (7, 2)], notequal[(7, 8), (7, 3)], notequal[(7, 8), (7, 4)], notequal[(7, 8), (7, 5)], notequal[(7, 8), (7, 6)], notequal[(7, 8), (7, 7)], notequal[(7, 8), (6, 6)], notequal[(7, 8), (6, 7)], notequal[(7, 8), (8, 6)], notequal[(7, 8), (8, 7)], notequal[(8, 0), (8, 1)], notequal[(8, 0), (8, 2)], notequal[(8, 0), (8, 3)], notequal[(8, 0), (8, 4)], notequal[(8, 0), (8, 5)], notequal[(8, 0), (8, 6)], notequal[(8, 0), (8, 7)], notequal[(8, 0), (8, 8)], notequal[(8, 0), (6, 1)], notequal[(8, 0), (6, 2)], notequal[(8, 0), (7, 1)], notequal[(8, 0), (7, 2)], notequal[(8, 1), (8, 0)], notequal[(8, 1), (8, 2)], notequal[(8, 1), (8, 3)], notequal[(8, 1), (8, 4)], notequal[(8, 1), (8, 5)], notequal[(8, 1), (8, 6)], notequal[(8, 1), (8, 7)], notequal[(8, 1), (8, 8)], notequal[(8, 1), (6, 0)], notequal[(8, 1), (6, 2)], notequal[(8, 1), (7, 0)], notequal[(8, 1), (7, 2)], notequal[(8, 2), (0, 2)], notequal[(8, 2), (1, 2)], notequal[(8, 2), (2, 2)], notequal[(8, 2), (3, 2)], notequal[(8, 2), (4, 2)], notequal[(8, 2), (5, 2)], notequal[(8, 2), (6, 2)], notequal[(8, 2), (7, 2)], notequal[(8, 2), (8, 0)], notequal[(8, 2), (8, 1)], notequal[(8, 2), (8, 3)], notequal[(8, 2), (8, 4)], notequal[(8, 2), (8, 5)], notequal[(8, 2), (8, 6)], notequal[(8, 2), (8, 7)], notequal[(8, 2), (8, 8)], notequal[(8, 2), (6, 0)], notequal[(8, 2), (6, 1)], notequal[(8, 2), (7, 0)], notequal[(8, 2), (7, 1)], notequal[(8, 3), (8, 0)], notequal[(8, 3), (8, 1)], notequal[(8, 3), (8, 2)], notequal[(8, 3), (8, 4)], notequal[(8, 3), (8, 5)], notequal[(8, 3), (8, 6)], notequal[(8, 3), (8, 7)], notequal[(8, 3), (8, 8)], notequal[(8, 3), (6, 4)], notequal[(8, 3), (6, 5)], notequal[(8, 3), (7, 4)], notequal[(8, 3), (7, 5)], notequal[(8, 4), (8, 0)], notequal[(8, 4), (8, 1)], notequal[(8, 4), (8, 2)], notequal[(8, 4), (8, 3)], notequal[(8, 4), (8, 5)], notequal[(8, 4), (8, 6)], notequal[(8, 4), (8, 7)], notequal[(8, 4), (8, 8)], notequal[(8, 4), (6, 3)], notequal[(8, 4), (6, 5)], notequal[(8, 4), (7, 3)], notequal[(8, 4), (7, 5)], notequal[(8, 5), (8, 0)], notequal[(8, 5), (8, 1)], notequal[(8, 5), (8, 2)], notequal[(8, 5), (8, 3)], notequal[(8, 5), (8, 4)], notequal[(8, 5), (8, 6)], notequal[(8, 5), (8, 7)], notequal[(8, 5), (8, 8)], notequal[(8, 5), (6, 3)], notequal[(8, 5), (6, 4)], notequal[(8, 5), (7, 3)], notequal[(8, 5), (7, 4)], notequal[(8, 6), (0, 6)], notequal[(8, 6), (1, 6)], notequal[(8, 6), (2, 6)], notequal[(8, 6), (3, 6)], notequal[(8, 6), (4, 6)], notequal[(8, 6), (5, 6)], notequal[(8, 6), (6, 6)], notequal[(8, 6), (7, 6)], notequal[(8, 6), (8, 0)], notequal[(8, 6), (8, 1)], notequal[(8, 6), (8, 2)], notequal[(8, 6), (8, 3)], notequal[(8, 6), (8, 4)], notequal[(8, 6), (8, 5)], notequal[(8, 6), (8, 7)], notequal[(8, 6), (8, 8)], notequal[(8, 6), (6, 7)], notequal[(8, 6), (6, 8)], notequal[(8, 6), (7, 7)], notequal[(8, 6), (7, 8)], notequal[(8, 7), (8, 0)], notequal[(8, 7), (8, 1)], notequal[(8, 7), (8, 2)], notequal[(8, 7), (8, 3)], notequal[(8, 7), (8, 4)], notequal[(8, 7), (8, 5)], notequal[(8, 7), (8, 6)], notequal[(8, 7), (8, 8)], notequal[(8, 7), (6, 6)], notequal[(8, 7), (6, 8)], notequal[(8, 7), (7, 6)], notequal[(8, 7), (7, 8)], notequal[(8, 8), (0, 8)], notequal[(8, 8), (1, 8)], notequal[(8, 8), (2, 8)], notequal[(8, 8), (3, 8)], notequal[(8, 8), (4, 8)], notequal[(8, 8), (5, 8)], notequal[(8, 8), (6, 8)], notequal[(8, 8), (7, 8)], notequal[(8, 8), (8, 0)], notequal[(8, 8), (8, 1)], notequal[(8, 8), (8, 2)], notequal[(8, 8), (8, 3)], notequal[(8, 8), (8, 4)], notequal[(8, 8), (8, 5)], notequal[(8, 8), (8, 6)], notequal[(8, 8), (8, 7)], notequal[(8, 8), (6, 6)], notequal[(8, 8), (6, 7)], notequal[(8, 8), (7, 6)], notequal[(8, 8), (7, 7)]]\n"
     ]
    }
   ],
   "source": [
    "def notequal(a, b):\n",
    "    return a!=b\n",
    "a = np.array(grid)\n",
    "constrain=[]\n",
    "for i in range(9):\n",
    "    for j in range(9):\n",
    "        for m in range(9):\n",
    "            if m != i and a[i][j] == 0:\n",
    "                constrain.append(Constraint([(i, j), (m, j)],notequal))\n",
    "        for m in range(9):\n",
    "            if m != j:\n",
    "                constrain.append(Constraint([(i, j), (i, m)],notequal))\n",
    "        for m in range((i//3)*3,(i//3+1)*3):\n",
    "            for n in range((j//3)*3,(j//3+1)*3):\n",
    "                if m != i and n != j:\n",
    "                    constrain.append(Constraint([(i, j), (m, n)],notequal))\n",
    "                    \n",
    "print(constrain)                    "
   ]
  },
  {
   "cell_type": "code",
   "execution_count": null,
   "metadata": {},
   "outputs": [],
   "source": []
  }
 ],
 "metadata": {
  "kernelspec": {
   "display_name": "Python 3",
   "language": "python",
   "name": "python3"
  },
  "language_info": {
   "codemirror_mode": {
    "name": "ipython",
    "version": 3
   },
   "file_extension": ".py",
   "mimetype": "text/x-python",
   "name": "python",
   "nbconvert_exporter": "python",
   "pygments_lexer": "ipython3",
   "version": "3.8.7"
  }
 },
 "nbformat": 4,
 "nbformat_minor": 4
}
